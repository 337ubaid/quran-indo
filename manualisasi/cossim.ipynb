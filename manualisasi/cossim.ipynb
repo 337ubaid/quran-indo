{
 "cells": [
  {
   "cell_type": "code",
   "execution_count": 6,
   "metadata": {},
   "outputs": [],
   "source": [
    "import math\n",
    "\n",
    "def cos_sim(a,b):\n",
    "    \"\"\"\n",
    "    a = [0.5, -0.3, 0.8]\n",
    "    b = [0.4, -0.2, 0.9]\n",
    "    \"\"\"    \n",
    "    dot_product = sum(a*b for a,b in zip(a,b))\n",
    "    norm_a = math.sqrt(sum(a**2 for a in a))\n",
    "    norm_b = math.sqrt(sum(b**2 for b in b))\n",
    "\n",
    "    print(f\"dot product : {dot_product}\")\n",
    "    print(f\"norm a      : {norm_a}\")\n",
    "    print(f\"norm b      : {norm_b}\\n\")\n",
    "\n",
    "    return dot_product/(norm_a * norm_b)"
   ]
  },
  {
   "cell_type": "code",
   "execution_count": 7,
   "metadata": {},
   "outputs": [
    {
     "name": "stdout",
     "output_type": "stream",
     "text": [
      "dot product : 0.9800000000000001\n",
      "norm a      : 0.9899494936611666\n",
      "norm b      : 1.004987562112089\n",
      "\n"
     ]
    },
    {
     "data": {
      "text/plain": [
       "0.9850365626224087"
      ]
     },
     "execution_count": 7,
     "metadata": {},
     "output_type": "execute_result"
    }
   ],
   "source": [
    "a = [0.5, -0.3, 0.8]\n",
    "b = [0.4, -0.2, 0.9]\n",
    "\n",
    "cos_sim(a,b)"
   ]
  }
 ],
 "metadata": {
  "kernelspec": {
   "display_name": "Python 3",
   "language": "python",
   "name": "python3"
  },
  "language_info": {
   "codemirror_mode": {
    "name": "ipython",
    "version": 3
   },
   "file_extension": ".py",
   "mimetype": "text/x-python",
   "name": "python",
   "nbconvert_exporter": "python",
   "pygments_lexer": "ipython3",
   "version": "3.10.0"
  }
 },
 "nbformat": 4,
 "nbformat_minor": 2
}
