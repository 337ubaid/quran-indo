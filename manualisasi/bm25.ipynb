{
 "cells": [
  {
   "cell_type": "code",
   "execution_count": 1,
   "metadata": {},
   "outputs": [],
   "source": [
    "a = \"kata muhammad dia allah yang maha esa\".split()\n",
    "b = \"allah tidak anak dan tidak pula anak\".split()\n",
    "c = \"dari jahat bisik setan yang sembunyi\".split()\n",
    "d = \"yang bisik jahat ke dalam dada manusia\".split()\n",
    "e = \"dari golong jin dan manusia\".split()\n",
    "query = \"apa sifat Allah?\""
   ]
  },
  {
   "cell_type": "code",
   "execution_count": 39,
   "metadata": {},
   "outputs": [
    {
     "data": {
      "text/plain": [
       "['kata', 'muhammad', 'dia', 'allah', 'yang', 'maha', 'esa']"
      ]
     },
     "execution_count": 39,
     "metadata": {},
     "output_type": "execute_result"
    }
   ],
   "source": [
    "a"
   ]
  },
  {
   "cell_type": "code",
   "execution_count": 2,
   "metadata": {},
   "outputs": [],
   "source": [
    "docs = [a,b,c,d,e]"
   ]
  },
  {
   "cell_type": "code",
   "execution_count": 3,
   "metadata": {},
   "outputs": [],
   "source": [
    "import numpy as np\n",
    "\n",
    "def tfidf (word, sentence):\n",
    "    freq = sentence.count(word)\n",
    "    tf =  freq / len(sentence)\n",
    "    idf = np.log10(len(docs)/sum([1 for doc in docs if word in doc]))\n",
    "\n",
    "    return round(tf*idf, 4)"
   ]
  },
  {
   "cell_type": "code",
   "execution_count": 10,
   "metadata": {},
   "outputs": [
    {
     "name": "stdout",
     "output_type": "stream",
     "text": [
      "5\n",
      "6.4\n"
     ]
    }
   ],
   "source": [
    "N = len(docs)\n",
    "avgdl = sum(len(sentence) for sentence in docs) / N\n",
    "print(N)\n",
    "print(avgdl)"
   ]
  },
  {
   "cell_type": "code",
   "execution_count": 102,
   "metadata": {},
   "outputs": [],
   "source": [
    "def bm25(word, sentence, k=1.5, b=0.75):\n",
    "    n_t = sum([1 for doc in docs if word in doc])\n",
    "    idf = (((N-n_t) + 0.5) / (n_t + 0.5))\n",
    "    idf = np.log10(idf)\n",
    "    # print(\"N    :\", N)\n",
    "    # print(\"n_t  :\", n_t)\n",
    "    # print(\"idf  :\",idf)\n",
    "    # print(\"\\n\")\n",
    "\n",
    "    f_td = sentence.count(word)\n",
    "    tf = (f_td*(k+1)) / (f_td + (k * (1 - b + (b * ((len(sentence) / avgdl))))))\n",
    "    # print(\"f_td :\",f_td)\n",
    "    # print(\"d    :\",len(sentence) )\n",
    "    # print(\"atas :\",(f_td*(k+1)) )\n",
    "    # print(\"bawah:\",(f_td + (k * (1 - b + (b * ((len(sentence) / avgdl)))))))\n",
    "    # print(\"tf   :\",tf)\n",
    "\n",
    "    \n",
    "\n",
    "    return round(tf*idf,6)"
   ]
  },
  {
   "cell_type": "code",
   "execution_count": 103,
   "metadata": {},
   "outputs": [
    {
     "name": "stdout",
     "output_type": "stream",
     "text": [
      "N    : 5\n",
      "n_t  : 0\n",
      "idf  : 1.0413926851582251\n",
      "\n",
      "\n",
      "f_td : 0\n",
      "d    : 7\n",
      "atas : 0.0\n",
      "bawah: 1.60546875\n",
      "tf   : 0.0\n"
     ]
    },
    {
     "data": {
      "text/plain": [
       "0.0"
      ]
     },
     "execution_count": 103,
     "metadata": {},
     "output_type": "execute_result"
    }
   ],
   "source": [
    "bm25(\"siapa\",a)"
   ]
  },
  {
   "cell_type": "code",
   "execution_count": 104,
   "metadata": {},
   "outputs": [
    {
     "name": "stdout",
     "output_type": "stream",
     "text": [
      "N    : 5\n",
      "n_t  : 2\n",
      "idf  : 0.146128035678238\n",
      "\n",
      "\n",
      "f_td : 1\n",
      "d    : 7\n",
      "atas : 2.5\n",
      "bawah: 2.60546875\n",
      "tf   : 0.95952023988006\n"
     ]
    },
    {
     "data": {
      "text/plain": [
       "0.140213"
      ]
     },
     "execution_count": 104,
     "metadata": {},
     "output_type": "execute_result"
    }
   ],
   "source": [
    "bm25(\"allah\",a)"
   ]
  },
  {
   "cell_type": "code",
   "execution_count": 105,
   "metadata": {},
   "outputs": [
    {
     "name": "stdout",
     "output_type": "stream",
     "text": [
      "N    : 5\n",
      "n_t  : 0\n",
      "idf  : 1.0413926851582251\n",
      "\n",
      "\n",
      "f_td : 0\n",
      "d    : 7\n",
      "atas : 0.0\n",
      "bawah: 1.60546875\n",
      "tf   : 0.0\n"
     ]
    },
    {
     "data": {
      "text/plain": [
       "0.0"
      ]
     },
     "execution_count": 105,
     "metadata": {},
     "output_type": "execute_result"
    }
   ],
   "source": [
    "bm25(\"tuhan\", a)"
   ]
  },
  {
   "cell_type": "code",
   "execution_count": 99,
   "metadata": {},
   "outputs": [
    {
     "name": "stdout",
     "output_type": "stream",
     "text": [
      "0.0\n",
      "0.0\n",
      "0.0\n",
      "0.0\n",
      "0.0\n"
     ]
    }
   ],
   "source": [
    "for doc in docs :\n",
    "    print(bm25(\"siapa\", doc))"
   ]
  },
  {
   "cell_type": "code",
   "execution_count": 100,
   "metadata": {},
   "outputs": [
    {
     "name": "stdout",
     "output_type": "stream",
     "text": [
      "0.140213\n",
      "0.140213\n",
      "0.0\n",
      "0.0\n",
      "0.0\n"
     ]
    }
   ],
   "source": [
    "for doc in docs :\n",
    "    print(bm25(\"allah\", doc))"
   ]
  },
  {
   "cell_type": "code",
   "execution_count": 101,
   "metadata": {},
   "outputs": [
    {
     "name": "stdout",
     "output_type": "stream",
     "text": [
      "0.0\n",
      "0.0\n",
      "0.0\n",
      "0.0\n",
      "0.0\n"
     ]
    }
   ],
   "source": [
    "for doc in docs :\n",
    "    print(bm25(\"tuhan\", doc))"
   ]
  },
  {
   "cell_type": "code",
   "execution_count": null,
   "metadata": {},
   "outputs": [],
   "source": []
  }
 ],
 "metadata": {
  "kernelspec": {
   "display_name": "Python 3",
   "language": "python",
   "name": "python3"
  },
  "language_info": {
   "codemirror_mode": {
    "name": "ipython",
    "version": 3
   },
   "file_extension": ".py",
   "mimetype": "text/x-python",
   "name": "python",
   "nbconvert_exporter": "python",
   "pygments_lexer": "ipython3",
   "version": "3.10.0"
  }
 },
 "nbformat": 4,
 "nbformat_minor": 2
}
