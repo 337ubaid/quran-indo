{
 "cells": [
  {
   "cell_type": "code",
   "execution_count": 1,
   "metadata": {},
   "outputs": [],
   "source": [
    "a = \"kata muhammad dia allah yang maha esa\".split()\n",
    "b = \"allah tidak anak dan tidak pula anak\".split()\n",
    "c = \"dari jahat bisik setan yang sembunyi\".split()\n",
    "d = \"yang bisik jahat ke dalam dada manusia\".split()\n",
    "e = \"dari golong jin dan manusia\".split()\n",
    "query = \"apa sifat Allah?\""
   ]
  },
  {
   "cell_type": "code",
   "execution_count": 39,
   "metadata": {},
   "outputs": [
    {
     "data": {
      "text/plain": [
       "['kata', 'muhammad', 'dia', 'allah', 'yang', 'maha', 'esa']"
      ]
     },
     "execution_count": 39,
     "metadata": {},
     "output_type": "execute_result"
    }
   ],
   "source": [
    "a"
   ]
  },
  {
   "cell_type": "code",
   "execution_count": 2,
   "metadata": {},
   "outputs": [],
   "source": [
    "docs = [a,b,c,d,e]"
   ]
  },
  {
   "cell_type": "code",
   "execution_count": 3,
   "metadata": {},
   "outputs": [],
   "source": [
    "import numpy as np\n",
    "\n",
    "def tfidf (word, sentence):\n",
    "    freq = sentence.count(word)\n",
    "    tf =  freq / len(sentence)\n",
    "    idf = np.log10(len(docs)/sum([1 for doc in docs if word in doc]))\n",
    "\n",
    "    return round(tf*idf, 4)"
   ]
  },
  {
   "cell_type": "code",
   "execution_count": 10,
   "metadata": {},
   "outputs": [
    {
     "name": "stdout",
     "output_type": "stream",
     "text": [
      "5\n",
      "6.4\n"
     ]
    }
   ],
   "source": [
    "N = len(docs)\n",
    "avgdl = sum(len(sentence) for sentence in docs) / N\n",
    "print(N)\n",
    "print(avgdl)"
   ]
  },
  {
   "cell_type": "code",
   "execution_count": 102,
   "metadata": {},
   "outputs": [],
   "source": [
    "def bm25(word, sentence, k=1.5, b=0.75):\n",
    "    n_t = sum([1 for doc in docs if word in doc])\n",
    "    idf = (((N-n_t) + 0.5) / (n_t + 0.5))\n",
    "    idf = np.log10(idf)\n",
    "    # print(\"N    :\", N)\n",
    "    # print(\"n_t  :\", n_t)\n",
    "    # print(\"idf  :\",idf)\n",
    "    # print(\"\\n\")\n",
    "\n",
    "    f_td = sentence.count(word)\n",
    "    tf = (f_td*(k+1)) / (f_td + (k * (1 - b + (b * ((len(sentence) / avgdl))))))\n",
    "    # print(\"f_td :\",f_td)\n",
    "    # print(\"d    :\",len(sentence) )\n",
    "    # print(\"atas :\",(f_td*(k+1)) )\n",
    "    # print(\"bawah:\",(f_td + (k * (1 - b + (b * ((len(sentence) / avgdl)))))))\n",
    "    # print(\"tf   :\",tf)\n",
    "\n",
    "    \n",
    "\n",
    "    return round(tf*idf,6)"
   ]
  },
  {
   "cell_type": "code",
   "execution_count": 103,
   "metadata": {},
   "outputs": [
    {
     "name": "stdout",
     "output_type": "stream",
     "text": [
      "N    : 5\n",
      "n_t  : 0\n",
      "idf  : 1.0413926851582251\n",
      "\n",
      "\n",
      "f_td : 0\n",
      "d    : 7\n",
      "atas : 0.0\n",
      "bawah: 1.60546875\n",
      "tf   : 0.0\n"
     ]
    },
    {
     "data": {
      "text/plain": [
       "0.0"
      ]
     },
     "execution_count": 103,
     "metadata": {},
     "output_type": "execute_result"
    }
   ],
   "source": [
    "bm25(\"siapa\",a)"
   ]
  },
  {
   "cell_type": "code",
   "execution_count": 104,
   "metadata": {},
   "outputs": [
    {
     "name": "stdout",
     "output_type": "stream",
     "text": [
      "N    : 5\n",
      "n_t  : 2\n",
      "idf  : 0.146128035678238\n",
      "\n",
      "\n",
      "f_td : 1\n",
      "d    : 7\n",
      "atas : 2.5\n",
      "bawah: 2.60546875\n",
      "tf   : 0.95952023988006\n"
     ]
    },
    {
     "data": {
      "text/plain": [
       "0.140213"
      ]
     },
     "execution_count": 104,
     "metadata": {},
     "output_type": "execute_result"
    }
   ],
   "source": [
    "bm25(\"allah\",a)"
   ]
  },
  {
   "cell_type": "code",
   "execution_count": 105,
   "metadata": {},
   "outputs": [
    {
     "name": "stdout",
     "output_type": "stream",
     "text": [
      "N    : 5\n",
      "n_t  : 0\n",
      "idf  : 1.0413926851582251\n",
      "\n",
      "\n",
      "f_td : 0\n",
      "d    : 7\n",
      "atas : 0.0\n",
      "bawah: 1.60546875\n",
      "tf   : 0.0\n"
     ]
    },
    {
     "data": {
      "text/plain": [
       "0.0"
      ]
     },
     "execution_count": 105,
     "metadata": {},
     "output_type": "execute_result"
    }
   ],
   "source": [
    "bm25(\"tuhan\", a)"
   ]
  },
  {
   "cell_type": "code",
   "execution_count": 99,
   "metadata": {},
   "outputs": [
    {
     "name": "stdout",
     "output_type": "stream",
     "text": [
      "0.0\n",
      "0.0\n",
      "0.0\n",
      "0.0\n",
      "0.0\n"
     ]
    }
   ],
   "source": [
    "for doc in docs :\n",
    "    print(bm25(\"siapa\", doc))"
   ]
  },
  {
   "cell_type": "code",
   "execution_count": 100,
   "metadata": {},
   "outputs": [
    {
     "name": "stdout",
     "output_type": "stream",
     "text": [
      "0.140213\n",
      "0.140213\n",
      "0.0\n",
      "0.0\n",
      "0.0\n"
     ]
    }
   ],
   "source": [
    "for doc in docs :\n",
    "    print(bm25(\"allah\", doc))"
   ]
  },
  {
   "cell_type": "code",
   "execution_count": 101,
   "metadata": {},
   "outputs": [
    {
     "name": "stdout",
     "output_type": "stream",
     "text": [
      "0.0\n",
      "0.0\n",
      "0.0\n",
      "0.0\n",
      "0.0\n"
     ]
    }
   ],
   "source": [
    "for doc in docs :\n",
    "    print(bm25(\"tuhan\", doc))"
   ]
  },
  {
   "cell_type": "markdown",
   "metadata": {},
   "source": [
    "# Dataset Manualisasi"
   ]
  },
  {
   "cell_type": "code",
   "execution_count": 1,
   "metadata": {},
   "outputs": [
    {
     "data": {
      "text/html": [
       "<div>\n",
       "<style scoped>\n",
       "    .dataframe tbody tr th:only-of-type {\n",
       "        vertical-align: middle;\n",
       "    }\n",
       "\n",
       "    .dataframe tbody tr th {\n",
       "        vertical-align: top;\n",
       "    }\n",
       "\n",
       "    .dataframe thead th {\n",
       "        text-align: right;\n",
       "    }\n",
       "</style>\n",
       "<table border=\"1\" class=\"dataframe\">\n",
       "  <thead>\n",
       "    <tr style=\"text-align: right;\">\n",
       "      <th></th>\n",
       "      <th>id</th>\n",
       "      <th>suraId</th>\n",
       "      <th>verseID</th>\n",
       "      <th>ayahText</th>\n",
       "      <th>indoText</th>\n",
       "      <th>readText</th>\n",
       "    </tr>\n",
       "  </thead>\n",
       "  <tbody>\n",
       "    <tr>\n",
       "      <th>0</th>\n",
       "      <td>6221</td>\n",
       "      <td>112</td>\n",
       "      <td>1</td>\n",
       "      <td>قُلْ هُوَ اللّٰهُ اَحَدٌۚ</td>\n",
       "      <td>Katakanlah (Muhammad), “Dialah Allah, Yang Mah...</td>\n",
       "      <td>qul huwallāhu aḥad</td>\n",
       "    </tr>\n",
       "    <tr>\n",
       "      <th>1</th>\n",
       "      <td>6222</td>\n",
       "      <td>112</td>\n",
       "      <td>2</td>\n",
       "      <td>اَللّٰهُ الصَّمَدُۚ</td>\n",
       "      <td>Allah tempat meminta segala sesuatu.</td>\n",
       "      <td>allāhuṣ-ṣamad</td>\n",
       "    </tr>\n",
       "    <tr>\n",
       "      <th>2</th>\n",
       "      <td>6223</td>\n",
       "      <td>112</td>\n",
       "      <td>3</td>\n",
       "      <td>لَمْ يَلِدْ وَلَمْ يُوْلَدْۙ</td>\n",
       "      <td>(Allah) tidak beranak dan tidak pula diperanak...</td>\n",
       "      <td>lam yalid wa lam yụlad</td>\n",
       "    </tr>\n",
       "    <tr>\n",
       "      <th>3</th>\n",
       "      <td>6224</td>\n",
       "      <td>112</td>\n",
       "      <td>4</td>\n",
       "      <td>وَلَمْ يَكُنْ لَّهٗ كُفُوًا اَحَدٌ</td>\n",
       "      <td>Dan tidak ada sesuatu yang setara dengan Dia.\"</td>\n",
       "      <td>wa lam yakul lahụ kufuwan aḥad</td>\n",
       "    </tr>\n",
       "    <tr>\n",
       "      <th>4</th>\n",
       "      <td>6225</td>\n",
       "      <td>113</td>\n",
       "      <td>1</td>\n",
       "      <td>قُلْ اَعُوْذُ بِرَبِّ الْفَلَقِۙ</td>\n",
       "      <td>Katakanlah, “Aku berlindung kepada Tuhan yang ...</td>\n",
       "      <td>qul a'ụżu birabbil-falaq</td>\n",
       "    </tr>\n",
       "    <tr>\n",
       "      <th>5</th>\n",
       "      <td>6226</td>\n",
       "      <td>113</td>\n",
       "      <td>2</td>\n",
       "      <td>مِنْ شَرِّ مَا خَلَقَۙ</td>\n",
       "      <td>dari kejahatan (makhluk yang) Dia ciptakan,</td>\n",
       "      <td>min syarri mā khalaq</td>\n",
       "    </tr>\n",
       "    <tr>\n",
       "      <th>6</th>\n",
       "      <td>6227</td>\n",
       "      <td>113</td>\n",
       "      <td>3</td>\n",
       "      <td>وَمِنْ شَرِّ غَاسِقٍ اِذَا وَقَبَۙ</td>\n",
       "      <td>dan dari kejahatan malam apabila telah gelap g...</td>\n",
       "      <td>wa min syarri gāsiqin iżā waqab</td>\n",
       "    </tr>\n",
       "    <tr>\n",
       "      <th>7</th>\n",
       "      <td>6228</td>\n",
       "      <td>113</td>\n",
       "      <td>4</td>\n",
       "      <td>وَمِنْ شَرِّ النَّفّٰثٰتِ فِى الْعُقَدِۙ</td>\n",
       "      <td>dan dari kejahatan (perempuan-perempuan) penyi...</td>\n",
       "      <td>wa min syarrin-naffāṡāti fil-'uqad</td>\n",
       "    </tr>\n",
       "    <tr>\n",
       "      <th>8</th>\n",
       "      <td>6229</td>\n",
       "      <td>113</td>\n",
       "      <td>5</td>\n",
       "      <td>وَمِنْ شَرِّ حَاسِدٍ اِذَا حَسَدَ</td>\n",
       "      <td>dan dari kejahatan orang yang dengki apabila d...</td>\n",
       "      <td>wa min syarri ḥāsidin iżā ḥasad</td>\n",
       "    </tr>\n",
       "    <tr>\n",
       "      <th>9</th>\n",
       "      <td>6230</td>\n",
       "      <td>114</td>\n",
       "      <td>1</td>\n",
       "      <td>قُلْ اَعُوْذُ بِرَبِّ النَّاسِۙ</td>\n",
       "      <td>Katakanlah, “Aku berlindung kepada Tuhannya ma...</td>\n",
       "      <td>qul a'ụżu birabbin-nās</td>\n",
       "    </tr>\n",
       "    <tr>\n",
       "      <th>10</th>\n",
       "      <td>6231</td>\n",
       "      <td>114</td>\n",
       "      <td>2</td>\n",
       "      <td>مَلِكِ النَّاسِۙ</td>\n",
       "      <td>Raja manusia,</td>\n",
       "      <td>malikin-nās</td>\n",
       "    </tr>\n",
       "    <tr>\n",
       "      <th>11</th>\n",
       "      <td>6232</td>\n",
       "      <td>114</td>\n",
       "      <td>3</td>\n",
       "      <td>اِلٰهِ النَّاسِۙ</td>\n",
       "      <td>sembahan manusia,</td>\n",
       "      <td>ilāhin-nās</td>\n",
       "    </tr>\n",
       "    <tr>\n",
       "      <th>12</th>\n",
       "      <td>6233</td>\n",
       "      <td>114</td>\n",
       "      <td>4</td>\n",
       "      <td>مِنْ شَرِّ الْوَسْوَاسِ ەۙ الْخَنَّاسِۖ</td>\n",
       "      <td>dari kejahatan (bisikan) setan yang bersembunyi,</td>\n",
       "      <td>min syarril-waswāsil-khannās</td>\n",
       "    </tr>\n",
       "    <tr>\n",
       "      <th>13</th>\n",
       "      <td>6234</td>\n",
       "      <td>114</td>\n",
       "      <td>5</td>\n",
       "      <td>الَّذِيْ يُوَسْوِسُ فِيْ صُدُوْرِ النَّاسِۙ</td>\n",
       "      <td>yang membisikkan (kejahatan) ke dalam dada man...</td>\n",
       "      <td>allażī yuwaswisu fī ṣudụrin-nās</td>\n",
       "    </tr>\n",
       "    <tr>\n",
       "      <th>14</th>\n",
       "      <td>6235</td>\n",
       "      <td>114</td>\n",
       "      <td>6</td>\n",
       "      <td>مِنَ الْجِنَّةِ وَالنَّاسِ</td>\n",
       "      <td>dari (golongan) jin dan manusia.”</td>\n",
       "      <td>minal-jinnati wan-nās</td>\n",
       "    </tr>\n",
       "  </tbody>\n",
       "</table>\n",
       "</div>"
      ],
      "text/plain": [
       "      id  suraId  verseID                                     ayahText  \\\n",
       "0   6221     112        1                    قُلْ هُوَ اللّٰهُ اَحَدٌۚ   \n",
       "1   6222     112        2                          اَللّٰهُ الصَّمَدُۚ   \n",
       "2   6223     112        3                 لَمْ يَلِدْ وَلَمْ يُوْلَدْۙ   \n",
       "3   6224     112        4           وَلَمْ يَكُنْ لَّهٗ كُفُوًا اَحَدٌ   \n",
       "4   6225     113        1             قُلْ اَعُوْذُ بِرَبِّ الْفَلَقِۙ   \n",
       "5   6226     113        2                       مِنْ شَرِّ مَا خَلَقَۙ   \n",
       "6   6227     113        3           وَمِنْ شَرِّ غَاسِقٍ اِذَا وَقَبَۙ   \n",
       "7   6228     113        4     وَمِنْ شَرِّ النَّفّٰثٰتِ فِى الْعُقَدِۙ   \n",
       "8   6229     113        5            وَمِنْ شَرِّ حَاسِدٍ اِذَا حَسَدَ   \n",
       "9   6230     114        1              قُلْ اَعُوْذُ بِرَبِّ النَّاسِۙ   \n",
       "10  6231     114        2                             مَلِكِ النَّاسِۙ   \n",
       "11  6232     114        3                             اِلٰهِ النَّاسِۙ   \n",
       "12  6233     114        4      مِنْ شَرِّ الْوَسْوَاسِ ەۙ الْخَنَّاسِۖ   \n",
       "13  6234     114        5  الَّذِيْ يُوَسْوِسُ فِيْ صُدُوْرِ النَّاسِۙ   \n",
       "14  6235     114        6                   مِنَ الْجِنَّةِ وَالنَّاسِ   \n",
       "\n",
       "                                             indoText  \\\n",
       "0   Katakanlah (Muhammad), “Dialah Allah, Yang Mah...   \n",
       "1                Allah tempat meminta segala sesuatu.   \n",
       "2   (Allah) tidak beranak dan tidak pula diperanak...   \n",
       "3      Dan tidak ada sesuatu yang setara dengan Dia.\"   \n",
       "4   Katakanlah, “Aku berlindung kepada Tuhan yang ...   \n",
       "5         dari kejahatan (makhluk yang) Dia ciptakan,   \n",
       "6   dan dari kejahatan malam apabila telah gelap g...   \n",
       "7   dan dari kejahatan (perempuan-perempuan) penyi...   \n",
       "8   dan dari kejahatan orang yang dengki apabila d...   \n",
       "9   Katakanlah, “Aku berlindung kepada Tuhannya ma...   \n",
       "10                                      Raja manusia,   \n",
       "11                                  sembahan manusia,   \n",
       "12   dari kejahatan (bisikan) setan yang bersembunyi,   \n",
       "13  yang membisikkan (kejahatan) ke dalam dada man...   \n",
       "14                  dari (golongan) jin dan manusia.”   \n",
       "\n",
       "                              readText  \n",
       "0                   qul huwallāhu aḥad  \n",
       "1                        allāhuṣ-ṣamad  \n",
       "2               lam yalid wa lam yụlad  \n",
       "3       wa lam yakul lahụ kufuwan aḥad  \n",
       "4             qul a'ụżu birabbil-falaq  \n",
       "5                 min syarri mā khalaq  \n",
       "6      wa min syarri gāsiqin iżā waqab  \n",
       "7   wa min syarrin-naffāṡāti fil-'uqad  \n",
       "8      wa min syarri ḥāsidin iżā ḥasad  \n",
       "9               qul a'ụżu birabbin-nās  \n",
       "10                         malikin-nās  \n",
       "11                          ilāhin-nās  \n",
       "12        min syarril-waswāsil-khannās  \n",
       "13     allażī yuwaswisu fī ṣudụrin-nās  \n",
       "14               minal-jinnati wan-nās  "
      ]
     },
     "execution_count": 1,
     "metadata": {},
     "output_type": "execute_result"
    }
   ],
   "source": [
    "import pandas as pd\n",
    "dataset = pd.read_csv('data_manualisasi.csv')\n",
    "dataset"
   ]
  },
  {
   "cell_type": "code",
   "execution_count": 2,
   "metadata": {},
   "outputs": [],
   "source": [
    "kueri = \"Siapa Allah? Tuhan?\""
   ]
  },
  {
   "cell_type": "markdown",
   "metadata": {},
   "source": [
    "## Preproses"
   ]
  },
  {
   "cell_type": "code",
   "execution_count": 13,
   "metadata": {},
   "outputs": [
    {
     "name": "stdout",
     "output_type": "stream",
     "text": [
      "                                            indoText  \\\n",
      "0  Katakanlah (Muhammad), “Dialah Allah, Yang Mah...   \n",
      "1               Allah tempat meminta segala sesuatu.   \n",
      "2  (Allah) tidak beranak dan tidak pula diperanak...   \n",
      "3     Dan tidak ada sesuatu yang setara dengan Dia.\"   \n",
      "4  Katakanlah, “Aku berlindung kepada Tuhan yang ...   \n",
      "\n",
      "                                      processed_text  \n",
      "0  [katakanlah, muhammad, dialah, allah, yang, ma...  \n",
      "1          [allah, tempat, meminta, segala, sesuatu]  \n",
      "2  [allah, tidak, beranak, dan, tidak, pula, dipe...  \n",
      "3  [dan, tidak, ada, sesuatu, yang, setara, denga...  \n",
      "4  [katakanlah, aku, berlindung, kepada, tuhan, y...  \n"
     ]
    }
   ],
   "source": [
    "import pandas as pd\n",
    "import re\n",
    "\n",
    "# Load dataset\n",
    "df = pd.read_csv(\"data_manualisasi.csv\") \n",
    "\n",
    "\n",
    "def preprocess_text(text):\n",
    "    if pd.isna(text):  # Cek jika NaN\n",
    "        return \"\"\n",
    "    \n",
    "    text = text.lower()  # lowercasing\n",
    "    text = re.sub(r'[^a-zA-Z\\s]', '', text)  # hapus tanda baca, karakter spesial, dan angka\n",
    "    tokens = text.split()  # Tokenisasi manual (split spasi)\n",
    "\n",
    "    return tokens\n",
    "\n",
    "# Terapkan preprocessing indoText  ke kolom processed_text\n",
    "df[\"processed_text\"] = df[\"indoText\"].apply(preprocess_text)\n",
    "\n",
    "# Tampilkan hasil\n",
    "print(df[[\"indoText\", \"processed_text\"]].head())\n"
   ]
  },
  {
   "cell_type": "code",
   "execution_count": 14,
   "metadata": {},
   "outputs": [
    {
     "data": {
      "text/plain": [
       "['siapa', 'allah', 'tuhan']"
      ]
     },
     "execution_count": 14,
     "metadata": {},
     "output_type": "execute_result"
    }
   ],
   "source": [
    "kueri = preprocess_text(kueri)\n",
    "kueri"
   ]
  }
 ],
 "metadata": {
  "kernelspec": {
   "display_name": "Python 3",
   "language": "python",
   "name": "python3"
  },
  "language_info": {
   "codemirror_mode": {
    "name": "ipython",
    "version": 3
   },
   "file_extension": ".py",
   "mimetype": "text/x-python",
   "name": "python",
   "nbconvert_exporter": "python",
   "pygments_lexer": "ipython3",
   "version": "3.10.0"
  }
 },
 "nbformat": 4,
 "nbformat_minor": 2
}
