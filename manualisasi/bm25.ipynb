{
 "cells": [
  {
   "cell_type": "code",
   "execution_count": null,
   "metadata": {},
   "outputs": [],
   "source": [
    "import numpy as np\n",
    "import pandas as pd\n",
    "import re\n",
    "from Sastrawi.Stemmer.StemmerFactory import StemmerFactory\n",
    "\n"
   ]
  },
  {
   "cell_type": "code",
   "execution_count": 1,
   "metadata": {},
   "outputs": [],
   "source": [
    "a = \"kata muhammad dia allah yang maha esa\".split()\n",
    "b = \"allah tidak anak dan tidak pula anak\".split()\n",
    "c = \"dari jahat bisik setan yang sembunyi\".split()\n",
    "d = \"yang bisik jahat ke dalam dada manusia\".split()\n",
    "e = \"dari golong jin dan manusia\".split()\n",
    "query = \"apakah sifat Allah?\""
   ]
  },
  {
   "cell_type": "code",
   "execution_count": 2,
   "metadata": {},
   "outputs": [],
   "source": [
    "docs = [a,b,c,d,e]"
   ]
  },
  {
   "cell_type": "code",
   "execution_count": null,
   "metadata": {},
   "outputs": [],
   "source": [
    "\n",
    "\n",
    "def tfidf_normal (word, sentence):\n",
    "    freq = sentence.count(word)\n",
    "    tf =  freq / len(sentence)\n",
    "    idf = np.log10(len(docs)/sum([1 for doc in docs if word in doc]))\n",
    "\n",
    "    return round(tf*idf, 4)"
   ]
  },
  {
   "cell_type": "code",
   "execution_count": 4,
   "metadata": {},
   "outputs": [
    {
     "name": "stdout",
     "output_type": "stream",
     "text": [
      "5\n",
      "6.4\n"
     ]
    }
   ],
   "source": [
    "N = len(docs)\n",
    "avgdl = sum(len(sentence) for sentence in docs) / N\n",
    "print(N)\n",
    "print(avgdl)"
   ]
  },
  {
   "cell_type": "code",
   "execution_count": 5,
   "metadata": {},
   "outputs": [],
   "source": [
    "def tf_idf(word, sentence, k=1.5, b=0.75):\n",
    "    n_t = sum([1 for doc in docs if word in doc])\n",
    "    idf = (((N-n_t) + 0.5) / (n_t + 0.5))\n",
    "    idf = np.log10(idf)\n",
    "    # print(\"N    :\", N)\n",
    "    # print(\"n_t  :\", n_t)\n",
    "    # print(\"idf  :\",idf)\n",
    "    # print(\"\\n\")\n",
    "\n",
    "    f_td = sentence.count(word)\n",
    "    tf = (f_td*(k+1)) / (f_td + (k * (1 - b + (b * ((len(sentence) / avgdl))))))\n",
    "    # print(\"f_td :\",f_td)\n",
    "    # print(\"d    :\",len(sentence) )\n",
    "    # print(\"atas :\",(f_td*(k+1)) )\n",
    "    # print(\"bawah:\",(f_td + (k * (1 - b + (b * ((len(sentence) / avgdl)))))))\n",
    "    # print(\"tf   :\",tf)\n",
    "\n",
    "    \n",
    "\n",
    "    return round(tf*idf,6)"
   ]
  },
  {
   "cell_type": "code",
   "execution_count": 6,
   "metadata": {},
   "outputs": [
    {
     "name": "stdout",
     "output_type": "stream",
     "text": [
      "0.0\n",
      "0.0\n",
      "0.0\n",
      "0.0\n",
      "0.0\n"
     ]
    }
   ],
   "source": [
    "for doc in docs :\n",
    "    print(tf_idf(\"siapa\", doc))"
   ]
  },
  {
   "cell_type": "code",
   "execution_count": 7,
   "metadata": {},
   "outputs": [
    {
     "name": "stdout",
     "output_type": "stream",
     "text": [
      "0.140213\n",
      "0.140213\n",
      "0.0\n",
      "0.0\n",
      "0.0\n"
     ]
    }
   ],
   "source": [
    "for doc in docs :\n",
    "    print(tf_idf(\"allah\", doc))"
   ]
  },
  {
   "cell_type": "code",
   "execution_count": 8,
   "metadata": {},
   "outputs": [
    {
     "name": "stdout",
     "output_type": "stream",
     "text": [
      "0.0\n",
      "0.0\n",
      "0.0\n",
      "0.0\n",
      "0.0\n"
     ]
    }
   ],
   "source": [
    "for doc in docs :\n",
    "    print(tf_idf(\"tuhan\", doc))"
   ]
  },
  {
   "cell_type": "code",
   "execution_count": 9,
   "metadata": {},
   "outputs": [],
   "source": [
    "def bm25(query, sentence):\n",
    "    result = sum(tf_idf(word, sentence) for word in query)\n",
    "    \n",
    "    return result"
   ]
  },
  {
   "cell_type": "code",
   "execution_count": 10,
   "metadata": {},
   "outputs": [
    {
     "name": "stdout",
     "output_type": "stream",
     "text": [
      "0.598021\n",
      "0.140213\n",
      "0.0\n",
      "0.0\n",
      "0.0\n"
     ]
    }
   ],
   "source": [
    "kueri = [\"siapa\", \"muhammad\", \"allah\"]\n",
    "for doc in docs:\n",
    "    print(bm25(kueri, doc))"
   ]
  },
  {
   "cell_type": "markdown",
   "metadata": {},
   "source": [
    "# Dataset Manualisasi"
   ]
  },
  {
   "cell_type": "code",
   "execution_count": null,
   "metadata": {},
   "outputs": [
    {
     "data": {
      "text/html": [
       "<div>\n",
       "<style scoped>\n",
       "    .dataframe tbody tr th:only-of-type {\n",
       "        vertical-align: middle;\n",
       "    }\n",
       "\n",
       "    .dataframe tbody tr th {\n",
       "        vertical-align: top;\n",
       "    }\n",
       "\n",
       "    .dataframe thead th {\n",
       "        text-align: right;\n",
       "    }\n",
       "</style>\n",
       "<table border=\"1\" class=\"dataframe\">\n",
       "  <thead>\n",
       "    <tr style=\"text-align: right;\">\n",
       "      <th></th>\n",
       "      <th>id</th>\n",
       "      <th>suraId</th>\n",
       "      <th>verseID</th>\n",
       "      <th>ayahText</th>\n",
       "      <th>indoText</th>\n",
       "      <th>readText</th>\n",
       "    </tr>\n",
       "  </thead>\n",
       "  <tbody>\n",
       "    <tr>\n",
       "      <th>0</th>\n",
       "      <td>6221</td>\n",
       "      <td>112</td>\n",
       "      <td>1</td>\n",
       "      <td>قُلْ هُوَ اللّٰهُ اَحَدٌۚ</td>\n",
       "      <td>Katakanlah (Muhammad), “Dialah Allah, Yang Mah...</td>\n",
       "      <td>qul huwallāhu aḥad</td>\n",
       "    </tr>\n",
       "    <tr>\n",
       "      <th>1</th>\n",
       "      <td>6223</td>\n",
       "      <td>112</td>\n",
       "      <td>3</td>\n",
       "      <td>لَمْ يَلِدْ وَلَمْ يُوْلَدْۙ</td>\n",
       "      <td>(Allah) tidak beranak dan tidak pula diperanak...</td>\n",
       "      <td>lam yalid wa lam yụlad</td>\n",
       "    </tr>\n",
       "    <tr>\n",
       "      <th>2</th>\n",
       "      <td>6233</td>\n",
       "      <td>114</td>\n",
       "      <td>4</td>\n",
       "      <td>مِنْ شَرِّ الْوَسْوَاسِ ەۙ الْخَنَّاسِۖ</td>\n",
       "      <td>dari kejahatan (bisikan) setan yang bersembunyi,</td>\n",
       "      <td>min syarril-waswāsil-khannās</td>\n",
       "    </tr>\n",
       "    <tr>\n",
       "      <th>3</th>\n",
       "      <td>6234</td>\n",
       "      <td>114</td>\n",
       "      <td>5</td>\n",
       "      <td>الَّذِيْ يُوَسْوِسُ فِيْ صُدُوْرِ النَّاسِۙ</td>\n",
       "      <td>yang membisikkan (kejahatan) ke dalam dada man...</td>\n",
       "      <td>allażī yuwaswisu fī ṣudụrin-nās</td>\n",
       "    </tr>\n",
       "    <tr>\n",
       "      <th>4</th>\n",
       "      <td>6235</td>\n",
       "      <td>114</td>\n",
       "      <td>6</td>\n",
       "      <td>مِنَ الْجِنَّةِ وَالنَّاسِ</td>\n",
       "      <td>dari (golongan) jin dan manusia.”</td>\n",
       "      <td>minal-jinnati wan-nās</td>\n",
       "    </tr>\n",
       "  </tbody>\n",
       "</table>\n",
       "</div>"
      ],
      "text/plain": [
       "     id  suraId  verseID                                     ayahText  \\\n",
       "0  6221     112        1                    قُلْ هُوَ اللّٰهُ اَحَدٌۚ   \n",
       "1  6223     112        3                 لَمْ يَلِدْ وَلَمْ يُوْلَدْۙ   \n",
       "2  6233     114        4      مِنْ شَرِّ الْوَسْوَاسِ ەۙ الْخَنَّاسِۖ   \n",
       "3  6234     114        5  الَّذِيْ يُوَسْوِسُ فِيْ صُدُوْرِ النَّاسِۙ   \n",
       "4  6235     114        6                   مِنَ الْجِنَّةِ وَالنَّاسِ   \n",
       "\n",
       "                                            indoText  \\\n",
       "0  Katakanlah (Muhammad), “Dialah Allah, Yang Mah...   \n",
       "1  (Allah) tidak beranak dan tidak pula diperanak...   \n",
       "2   dari kejahatan (bisikan) setan yang bersembunyi,   \n",
       "3  yang membisikkan (kejahatan) ke dalam dada man...   \n",
       "4                  dari (golongan) jin dan manusia.”   \n",
       "\n",
       "                          readText  \n",
       "0               qul huwallāhu aḥad  \n",
       "1           lam yalid wa lam yụlad  \n",
       "2     min syarril-waswāsil-khannās  \n",
       "3  allażī yuwaswisu fī ṣudụrin-nās  \n",
       "4            minal-jinnati wan-nās  "
      ]
     },
     "execution_count": 11,
     "metadata": {},
     "output_type": "execute_result"
    }
   ],
   "source": [
    "\n",
    "df = pd.read_csv(\"data_manualisasi.csv\") \n",
    "df"
   ]
  },
  {
   "cell_type": "markdown",
   "metadata": {},
   "source": [
    "## Preproses"
   ]
  },
  {
   "cell_type": "code",
   "execution_count": 12,
   "metadata": {},
   "outputs": [],
   "source": [
    "kueri = \"Siapa Allah? Tuhan?\""
   ]
  },
  {
   "cell_type": "code",
   "execution_count": null,
   "metadata": {},
   "outputs": [
    {
     "name": "stdout",
     "output_type": "stream",
     "text": [
      "                                            indoText  \\\n",
      "0  Katakanlah (Muhammad), “Dialah Allah, Yang Mah...   \n",
      "1  (Allah) tidak beranak dan tidak pula diperanak...   \n",
      "2   dari kejahatan (bisikan) setan yang bersembunyi,   \n",
      "3  yang membisikkan (kejahatan) ke dalam dada man...   \n",
      "4                  dari (golongan) jin dan manusia.”   \n",
      "\n",
      "                              processed_text_no_stem  \n",
      "0  [katakanlah, muhammad, dialah, allah, yang, ma...  \n",
      "1  [allah, tidak, beranak, dan, tidak, pula, dipe...  \n",
      "2  [dari, kejahatan, bisikan, setan, yang, bersem...  \n",
      "3  [yang, membisikkan, kejahatan, ke, dalam, dada...  \n",
      "4                [dari, golongan, jin, dan, manusia]  \n"
     ]
    }
   ],
   "source": [
    "# Preproses tanpa stemming\n",
    "\n",
    "\n",
    "\n",
    "def preprocess_text_no_stem(text):\n",
    "    if pd.isna(text):  # Cek jika NaN\n",
    "        return \"\"\n",
    "    \n",
    "\n",
    "    text = text.lower()  # lowercasing\n",
    "    text = re.sub(r'[^a-zA-Z\\s]', '', text)  # hapus tanda baca, karakter spesial, dan angka\n",
    "    tokens = text.split()  # Tokenisasi manual (split spasi)\n",
    "\n",
    "    return tokens\n",
    "\n",
    "# preprocessing indoText  ke kolom processed_text\n",
    "df[\"processed_text_no_stem\"] = df[\"indoText\"].apply(preprocess_text_no_stem)\n",
    "\n",
    "\n",
    "# Tampilkan hasil\n",
    "print(df[[\"indoText\", \"processed_text_no_stem\"]].head())\n"
   ]
  },
  {
   "cell_type": "code",
   "execution_count": 14,
   "metadata": {},
   "outputs": [
    {
     "data": {
      "text/plain": [
       "['allah', 'tidak', 'beranak', 'dan', 'tidak', 'pula', 'diperanakkan']"
      ]
     },
     "execution_count": 14,
     "metadata": {},
     "output_type": "execute_result"
    }
   ],
   "source": [
    "preprocess_text_no_stem(\"(Allah) tidak beranak dan tidak pula diperanakkan.\")\n"
   ]
  },
  {
   "cell_type": "code",
   "execution_count": null,
   "metadata": {},
   "outputs": [],
   "source": [
    "# Coba Stemming\n",
    "\n",
    "\n",
    "def preprocess_text(text):\n",
    "    if pd.isna(text):\n",
    "        return []\n",
    "    factory = StemmerFactory()\n",
    "    stemmer = factory.create_stemmer()\n",
    "    \n",
    "    text = text.lower()  # lowercase\n",
    "    text = re.sub(r'[^a-zA-Z\\s]', '', text)  # hapus tanda baca, karakter spesial, dan angka\n",
    "    tokens = text.split()  # tokenisasi split spasi\n",
    "    \n",
    "    # stemming untuk setiap token\n",
    "    stemmed_tokens = [stemmer.stem(token) for token in tokens]\n",
    "    \n",
    "    return stemmed_tokens"
   ]
  },
  {
   "cell_type": "code",
   "execution_count": 16,
   "metadata": {},
   "outputs": [
    {
     "data": {
      "text/plain": [
       "['allah', 'tidak', 'anak', 'dan', 'tidak', 'pula', 'anak']"
      ]
     },
     "execution_count": 16,
     "metadata": {},
     "output_type": "execute_result"
    }
   ],
   "source": [
    "preprocess_text(\"(Allah) tidak beranak dan tidak pula diperanakkan.\")\n"
   ]
  },
  {
   "cell_type": "code",
   "execution_count": 17,
   "metadata": {},
   "outputs": [
    {
     "name": "stdout",
     "output_type": "stream",
     "text": [
      "                                            indoText  \\\n",
      "0  Katakanlah (Muhammad), “Dialah Allah, Yang Mah...   \n",
      "1  (Allah) tidak beranak dan tidak pula diperanak...   \n",
      "2   dari kejahatan (bisikan) setan yang bersembunyi,   \n",
      "3  yang membisikkan (kejahatan) ke dalam dada man...   \n",
      "4                  dari (golongan) jin dan manusia.”   \n",
      "\n",
      "                                   processed_text  \n",
      "0   [kata, muhammad, dia, allah, yang, maha, esa]  \n",
      "1    [allah, tidak, anak, dan, tidak, pula, anak]  \n",
      "2     [dari, jahat, bisik, setan, yang, sembunyi]  \n",
      "3  [yang, bisik, jahat, ke, dalam, dada, manusia]  \n",
      "4               [dari, golong, jin, dan, manusia]  \n"
     ]
    }
   ],
   "source": [
    "# preprocessing indoText  ke kolom processed_text\n",
    "df[\"processed_text\"] = df[\"indoText\"].apply(preprocess_text)\n",
    "\n",
    "# Tampilkan hasil\n",
    "print(df[[\"indoText\", \"processed_text\"]].head())"
   ]
  },
  {
   "cell_type": "code",
   "execution_count": 18,
   "metadata": {},
   "outputs": [
    {
     "data": {
      "text/html": [
       "<div>\n",
       "<style scoped>\n",
       "    .dataframe tbody tr th:only-of-type {\n",
       "        vertical-align: middle;\n",
       "    }\n",
       "\n",
       "    .dataframe tbody tr th {\n",
       "        vertical-align: top;\n",
       "    }\n",
       "\n",
       "    .dataframe thead th {\n",
       "        text-align: right;\n",
       "    }\n",
       "</style>\n",
       "<table border=\"1\" class=\"dataframe\">\n",
       "  <thead>\n",
       "    <tr style=\"text-align: right;\">\n",
       "      <th></th>\n",
       "      <th>id</th>\n",
       "      <th>suraId</th>\n",
       "      <th>verseID</th>\n",
       "      <th>ayahText</th>\n",
       "      <th>indoText</th>\n",
       "      <th>readText</th>\n",
       "      <th>processed_text_no_stem</th>\n",
       "      <th>processed_text</th>\n",
       "    </tr>\n",
       "  </thead>\n",
       "  <tbody>\n",
       "    <tr>\n",
       "      <th>0</th>\n",
       "      <td>6221</td>\n",
       "      <td>112</td>\n",
       "      <td>1</td>\n",
       "      <td>قُلْ هُوَ اللّٰهُ اَحَدٌۚ</td>\n",
       "      <td>Katakanlah (Muhammad), “Dialah Allah, Yang Mah...</td>\n",
       "      <td>qul huwallāhu aḥad</td>\n",
       "      <td>[katakanlah, muhammad, dialah, allah, yang, ma...</td>\n",
       "      <td>[kata, muhammad, dia, allah, yang, maha, esa]</td>\n",
       "    </tr>\n",
       "    <tr>\n",
       "      <th>1</th>\n",
       "      <td>6223</td>\n",
       "      <td>112</td>\n",
       "      <td>3</td>\n",
       "      <td>لَمْ يَلِدْ وَلَمْ يُوْلَدْۙ</td>\n",
       "      <td>(Allah) tidak beranak dan tidak pula diperanak...</td>\n",
       "      <td>lam yalid wa lam yụlad</td>\n",
       "      <td>[allah, tidak, beranak, dan, tidak, pula, dipe...</td>\n",
       "      <td>[allah, tidak, anak, dan, tidak, pula, anak]</td>\n",
       "    </tr>\n",
       "    <tr>\n",
       "      <th>2</th>\n",
       "      <td>6233</td>\n",
       "      <td>114</td>\n",
       "      <td>4</td>\n",
       "      <td>مِنْ شَرِّ الْوَسْوَاسِ ەۙ الْخَنَّاسِۖ</td>\n",
       "      <td>dari kejahatan (bisikan) setan yang bersembunyi,</td>\n",
       "      <td>min syarril-waswāsil-khannās</td>\n",
       "      <td>[dari, kejahatan, bisikan, setan, yang, bersem...</td>\n",
       "      <td>[dari, jahat, bisik, setan, yang, sembunyi]</td>\n",
       "    </tr>\n",
       "    <tr>\n",
       "      <th>3</th>\n",
       "      <td>6234</td>\n",
       "      <td>114</td>\n",
       "      <td>5</td>\n",
       "      <td>الَّذِيْ يُوَسْوِسُ فِيْ صُدُوْرِ النَّاسِۙ</td>\n",
       "      <td>yang membisikkan (kejahatan) ke dalam dada man...</td>\n",
       "      <td>allażī yuwaswisu fī ṣudụrin-nās</td>\n",
       "      <td>[yang, membisikkan, kejahatan, ke, dalam, dada...</td>\n",
       "      <td>[yang, bisik, jahat, ke, dalam, dada, manusia]</td>\n",
       "    </tr>\n",
       "    <tr>\n",
       "      <th>4</th>\n",
       "      <td>6235</td>\n",
       "      <td>114</td>\n",
       "      <td>6</td>\n",
       "      <td>مِنَ الْجِنَّةِ وَالنَّاسِ</td>\n",
       "      <td>dari (golongan) jin dan manusia.”</td>\n",
       "      <td>minal-jinnati wan-nās</td>\n",
       "      <td>[dari, golongan, jin, dan, manusia]</td>\n",
       "      <td>[dari, golong, jin, dan, manusia]</td>\n",
       "    </tr>\n",
       "  </tbody>\n",
       "</table>\n",
       "</div>"
      ],
      "text/plain": [
       "     id  suraId  verseID                                     ayahText  \\\n",
       "0  6221     112        1                    قُلْ هُوَ اللّٰهُ اَحَدٌۚ   \n",
       "1  6223     112        3                 لَمْ يَلِدْ وَلَمْ يُوْلَدْۙ   \n",
       "2  6233     114        4      مِنْ شَرِّ الْوَسْوَاسِ ەۙ الْخَنَّاسِۖ   \n",
       "3  6234     114        5  الَّذِيْ يُوَسْوِسُ فِيْ صُدُوْرِ النَّاسِۙ   \n",
       "4  6235     114        6                   مِنَ الْجِنَّةِ وَالنَّاسِ   \n",
       "\n",
       "                                            indoText  \\\n",
       "0  Katakanlah (Muhammad), “Dialah Allah, Yang Mah...   \n",
       "1  (Allah) tidak beranak dan tidak pula diperanak...   \n",
       "2   dari kejahatan (bisikan) setan yang bersembunyi,   \n",
       "3  yang membisikkan (kejahatan) ke dalam dada man...   \n",
       "4                  dari (golongan) jin dan manusia.”   \n",
       "\n",
       "                          readText  \\\n",
       "0               qul huwallāhu aḥad   \n",
       "1           lam yalid wa lam yụlad   \n",
       "2     min syarril-waswāsil-khannās   \n",
       "3  allażī yuwaswisu fī ṣudụrin-nās   \n",
       "4            minal-jinnati wan-nās   \n",
       "\n",
       "                              processed_text_no_stem  \\\n",
       "0  [katakanlah, muhammad, dialah, allah, yang, ma...   \n",
       "1  [allah, tidak, beranak, dan, tidak, pula, dipe...   \n",
       "2  [dari, kejahatan, bisikan, setan, yang, bersem...   \n",
       "3  [yang, membisikkan, kejahatan, ke, dalam, dada...   \n",
       "4                [dari, golongan, jin, dan, manusia]   \n",
       "\n",
       "                                   processed_text  \n",
       "0   [kata, muhammad, dia, allah, yang, maha, esa]  \n",
       "1    [allah, tidak, anak, dan, tidak, pula, anak]  \n",
       "2     [dari, jahat, bisik, setan, yang, sembunyi]  \n",
       "3  [yang, bisik, jahat, ke, dalam, dada, manusia]  \n",
       "4               [dari, golong, jin, dan, manusia]  "
      ]
     },
     "execution_count": 18,
     "metadata": {},
     "output_type": "execute_result"
    }
   ],
   "source": [
    "df"
   ]
  },
  {
   "cell_type": "code",
   "execution_count": 19,
   "metadata": {},
   "outputs": [],
   "source": [
    "kueri = preprocess_text(kueri)\n"
   ]
  },
  {
   "cell_type": "code",
   "execution_count": 20,
   "metadata": {},
   "outputs": [
    {
     "data": {
      "text/plain": [
       "0.140213"
      ]
     },
     "execution_count": 20,
     "metadata": {},
     "output_type": "execute_result"
    }
   ],
   "source": [
    "row = df[df[\"id\"] == 6221]\n",
    "\n",
    "processed_text = row[\"processed_text\"].values[0]\n",
    "bm25(kueri, processed_text)"
   ]
  },
  {
   "cell_type": "code",
   "execution_count": 21,
   "metadata": {},
   "outputs": [
    {
     "data": {
      "text/plain": [
       "0.140213"
      ]
     },
     "execution_count": 21,
     "metadata": {},
     "output_type": "execute_result"
    }
   ],
   "source": [
    "bm25(kueri, df[\"processed_text\"][1])"
   ]
  },
  {
   "cell_type": "code",
   "execution_count": 22,
   "metadata": {},
   "outputs": [
    {
     "data": {
      "text/plain": [
       "{6221: 0.140213, 6223: 0.140213, 6233: 0.0, 6234: 0.0, 6235: 0.0}"
      ]
     },
     "execution_count": 22,
     "metadata": {},
     "output_type": "execute_result"
    }
   ],
   "source": [
    "dict_scores = {\n",
    "    row[\"id\"]: bm25(kueri, row[\"processed_text\"])\n",
    "    for _, row in df.iterrows()\n",
    "}\n",
    "dict_scores"
   ]
  },
  {
   "cell_type": "code",
   "execution_count": 23,
   "metadata": {},
   "outputs": [
    {
     "data": {
      "text/plain": [
       "{6221: 0.140213, 6223: 0.140213, 6233: 0.0, 6234: 0.0, 6235: 0.0}"
      ]
     },
     "execution_count": 23,
     "metadata": {},
     "output_type": "execute_result"
    }
   ],
   "source": [
    "dict_top5 = dict(sorted(dict_scores.items(), key=lambda x:x[1], reverse=True)[:5])\n",
    "dict_top5"
   ]
  },
  {
   "cell_type": "code",
   "execution_count": 24,
   "metadata": {},
   "outputs": [
    {
     "data": {
      "text/html": [
       "<div>\n",
       "<style scoped>\n",
       "    .dataframe tbody tr th:only-of-type {\n",
       "        vertical-align: middle;\n",
       "    }\n",
       "\n",
       "    .dataframe tbody tr th {\n",
       "        vertical-align: top;\n",
       "    }\n",
       "\n",
       "    .dataframe thead th {\n",
       "        text-align: right;\n",
       "    }\n",
       "</style>\n",
       "<table border=\"1\" class=\"dataframe\">\n",
       "  <thead>\n",
       "    <tr style=\"text-align: right;\">\n",
       "      <th></th>\n",
       "      <th>id</th>\n",
       "      <th>suraId</th>\n",
       "      <th>verseID</th>\n",
       "      <th>ayahText</th>\n",
       "      <th>indoText</th>\n",
       "      <th>readText</th>\n",
       "      <th>processed_text_no_stem</th>\n",
       "      <th>processed_text</th>\n",
       "    </tr>\n",
       "  </thead>\n",
       "  <tbody>\n",
       "    <tr>\n",
       "      <th>0</th>\n",
       "      <td>6221</td>\n",
       "      <td>112</td>\n",
       "      <td>1</td>\n",
       "      <td>قُلْ هُوَ اللّٰهُ اَحَدٌۚ</td>\n",
       "      <td>Katakanlah (Muhammad), “Dialah Allah, Yang Mah...</td>\n",
       "      <td>qul huwallāhu aḥad</td>\n",
       "      <td>[katakanlah, muhammad, dialah, allah, yang, ma...</td>\n",
       "      <td>[kata, muhammad, dia, allah, yang, maha, esa]</td>\n",
       "    </tr>\n",
       "    <tr>\n",
       "      <th>1</th>\n",
       "      <td>6223</td>\n",
       "      <td>112</td>\n",
       "      <td>3</td>\n",
       "      <td>لَمْ يَلِدْ وَلَمْ يُوْلَدْۙ</td>\n",
       "      <td>(Allah) tidak beranak dan tidak pula diperanak...</td>\n",
       "      <td>lam yalid wa lam yụlad</td>\n",
       "      <td>[allah, tidak, beranak, dan, tidak, pula, dipe...</td>\n",
       "      <td>[allah, tidak, anak, dan, tidak, pula, anak]</td>\n",
       "    </tr>\n",
       "    <tr>\n",
       "      <th>2</th>\n",
       "      <td>6233</td>\n",
       "      <td>114</td>\n",
       "      <td>4</td>\n",
       "      <td>مِنْ شَرِّ الْوَسْوَاسِ ەۙ الْخَنَّاسِۖ</td>\n",
       "      <td>dari kejahatan (bisikan) setan yang bersembunyi,</td>\n",
       "      <td>min syarril-waswāsil-khannās</td>\n",
       "      <td>[dari, kejahatan, bisikan, setan, yang, bersem...</td>\n",
       "      <td>[dari, jahat, bisik, setan, yang, sembunyi]</td>\n",
       "    </tr>\n",
       "    <tr>\n",
       "      <th>3</th>\n",
       "      <td>6234</td>\n",
       "      <td>114</td>\n",
       "      <td>5</td>\n",
       "      <td>الَّذِيْ يُوَسْوِسُ فِيْ صُدُوْرِ النَّاسِۙ</td>\n",
       "      <td>yang membisikkan (kejahatan) ke dalam dada man...</td>\n",
       "      <td>allażī yuwaswisu fī ṣudụrin-nās</td>\n",
       "      <td>[yang, membisikkan, kejahatan, ke, dalam, dada...</td>\n",
       "      <td>[yang, bisik, jahat, ke, dalam, dada, manusia]</td>\n",
       "    </tr>\n",
       "    <tr>\n",
       "      <th>4</th>\n",
       "      <td>6235</td>\n",
       "      <td>114</td>\n",
       "      <td>6</td>\n",
       "      <td>مِنَ الْجِنَّةِ وَالنَّاسِ</td>\n",
       "      <td>dari (golongan) jin dan manusia.”</td>\n",
       "      <td>minal-jinnati wan-nās</td>\n",
       "      <td>[dari, golongan, jin, dan, manusia]</td>\n",
       "      <td>[dari, golong, jin, dan, manusia]</td>\n",
       "    </tr>\n",
       "  </tbody>\n",
       "</table>\n",
       "</div>"
      ],
      "text/plain": [
       "     id  suraId  verseID                                     ayahText  \\\n",
       "0  6221     112        1                    قُلْ هُوَ اللّٰهُ اَحَدٌۚ   \n",
       "1  6223     112        3                 لَمْ يَلِدْ وَلَمْ يُوْلَدْۙ   \n",
       "2  6233     114        4      مِنْ شَرِّ الْوَسْوَاسِ ەۙ الْخَنَّاسِۖ   \n",
       "3  6234     114        5  الَّذِيْ يُوَسْوِسُ فِيْ صُدُوْرِ النَّاسِۙ   \n",
       "4  6235     114        6                   مِنَ الْجِنَّةِ وَالنَّاسِ   \n",
       "\n",
       "                                            indoText  \\\n",
       "0  Katakanlah (Muhammad), “Dialah Allah, Yang Mah...   \n",
       "1  (Allah) tidak beranak dan tidak pula diperanak...   \n",
       "2   dari kejahatan (bisikan) setan yang bersembunyi,   \n",
       "3  yang membisikkan (kejahatan) ke dalam dada man...   \n",
       "4                  dari (golongan) jin dan manusia.”   \n",
       "\n",
       "                          readText  \\\n",
       "0               qul huwallāhu aḥad   \n",
       "1           lam yalid wa lam yụlad   \n",
       "2     min syarril-waswāsil-khannās   \n",
       "3  allażī yuwaswisu fī ṣudụrin-nās   \n",
       "4            minal-jinnati wan-nās   \n",
       "\n",
       "                              processed_text_no_stem  \\\n",
       "0  [katakanlah, muhammad, dialah, allah, yang, ma...   \n",
       "1  [allah, tidak, beranak, dan, tidak, pula, dipe...   \n",
       "2  [dari, kejahatan, bisikan, setan, yang, bersem...   \n",
       "3  [yang, membisikkan, kejahatan, ke, dalam, dada...   \n",
       "4                [dari, golongan, jin, dan, manusia]   \n",
       "\n",
       "                                   processed_text  \n",
       "0   [kata, muhammad, dia, allah, yang, maha, esa]  \n",
       "1    [allah, tidak, anak, dan, tidak, pula, anak]  \n",
       "2     [dari, jahat, bisik, setan, yang, sembunyi]  \n",
       "3  [yang, bisik, jahat, ke, dalam, dada, manusia]  \n",
       "4               [dari, golong, jin, dan, manusia]  "
      ]
     },
     "execution_count": 24,
     "metadata": {},
     "output_type": "execute_result"
    }
   ],
   "source": [
    "# display top 5\n",
    "top5_ayat = df[df['id'].isin(dict_top5.keys())] \n",
    "top5_ayat"
   ]
  },
  {
   "cell_type": "code",
   "execution_count": null,
   "metadata": {},
   "outputs": [],
   "source": [
    "from rank_bm25 import BM25Okapi\n",
    "from sklearn.feature_extraction import _stop_words\n",
    "import string\n",
    "\n",
    "import numpy as np\n",
    "\n",
    "def bm25_tokenizer(text):\n",
    "    tokenized_doc = []\n",
    "    for token in text.lower().split():\n",
    "        token = token.strip(string.punctuation)\n",
    "\n",
    "        if len(token) > 0 and token not in _stop_words.ENGLISH_STOP_WORDS:\n",
    "            tokenized_doc.append(token)\n",
    "    return tokenized_doc"
   ]
  },
  {
   "cell_type": "code",
   "execution_count": null,
   "metadata": {},
   "outputs": [],
   "source": [
    "bm25 = BM25Okapi(tokenized_corpus)\n",
    "bm25_scores = bm25.get_scores(bm25_tokenizer(query))\n",
    "top_n = np.argpartition(bm25_scores, -10)[-10:]\n",
    "bm25_hits = [{'corpus_id': idx, 'score': bm25_scores[idx]} for idx in top_n]\n",
    "bm25_hits = sorted(bm25_hits, key=lambda x: x['score'], reverse=True)"
   ]
  }
 ],
 "metadata": {
  "kernelspec": {
   "display_name": "Python 3",
   "language": "python",
   "name": "python3"
  },
  "language_info": {
   "codemirror_mode": {
    "name": "ipython",
    "version": 3
   },
   "file_extension": ".py",
   "mimetype": "text/x-python",
   "name": "python",
   "nbconvert_exporter": "python",
   "pygments_lexer": "ipython3",
   "version": "3.10.0"
  }
 },
 "nbformat": 4,
 "nbformat_minor": 2
}
