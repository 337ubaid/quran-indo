{
 "cells": [
  {
   "cell_type": "code",
   "execution_count": 1,
   "id": "84fd7ada",
   "metadata": {},
   "outputs": [],
   "source": [
    "import torch\n",
    "from sentence_transformers import SentenceTransformer, models\n",
    "from sentence_transformers import SentenceTransformer, InputExample, losses, models, datasets\n",
    "import pandas as pd"
   ]
  },
  {
   "cell_type": "code",
   "execution_count": 2,
   "id": "8737b649",
   "metadata": {},
   "outputs": [],
   "source": [
    "# Load Model\n",
    "word_emb = models.Transformer(\"denaya/indoSBERT-large\")\n",
    "pooling = models.Pooling(word_emb.get_word_embedding_dimension())\n",
    "model = SentenceTransformer(modules=[word_emb, pooling])"
   ]
  },
  {
   "cell_type": "code",
   "execution_count": 3,
   "id": "1456fee6",
   "metadata": {},
   "outputs": [
    {
     "data": {
      "text/plain": [
       "SentenceTransformer(\n",
       "  (0): Transformer({'max_seq_length': 512, 'do_lower_case': False}) with Transformer model: BertModel \n",
       "  (1): Pooling({'word_embedding_dimension': 1024, 'pooling_mode_cls_token': False, 'pooling_mode_mean_tokens': True, 'pooling_mode_max_tokens': False, 'pooling_mode_mean_sqrt_len_tokens': False, 'pooling_mode_weightedmean_tokens': False, 'pooling_mode_lasttoken': False, 'include_prompt': True})\n",
       ")"
      ]
     },
     "execution_count": 3,
     "metadata": {},
     "output_type": "execute_result"
    }
   ],
   "source": [
    "#Select the device\n",
    "device = torch.device('cuda' if torch.cuda.is_available() else 'cpu')\n",
    "model.to(device)"
   ]
  },
  {
   "cell_type": "code",
   "execution_count": 4,
   "id": "39502cda",
   "metadata": {},
   "outputs": [
    {
     "data": {
      "text/html": [
       "<div>\n",
       "<style scoped>\n",
       "    .dataframe tbody tr th:only-of-type {\n",
       "        vertical-align: middle;\n",
       "    }\n",
       "\n",
       "    .dataframe tbody tr th {\n",
       "        vertical-align: top;\n",
       "    }\n",
       "\n",
       "    .dataframe thead th {\n",
       "        text-align: right;\n",
       "    }\n",
       "</style>\n",
       "<table border=\"1\" class=\"dataframe\">\n",
       "  <thead>\n",
       "    <tr style=\"text-align: right;\">\n",
       "      <th></th>\n",
       "      <th>idx</th>\n",
       "      <th>question_id</th>\n",
       "      <th>answer_id</th>\n",
       "    </tr>\n",
       "  </thead>\n",
       "  <tbody>\n",
       "    <tr>\n",
       "      <th>0</th>\n",
       "      <td>0</td>\n",
       "      <td>Apa satu - satunya buku yang bebas dari keragu...</td>\n",
       "      <td>(Kitab ini) yakni yang dibaca oleh Muhammad sa...</td>\n",
       "    </tr>\n",
       "    <tr>\n",
       "      <th>1</th>\n",
       "      <td>1</td>\n",
       "      <td>(Apakah buah-buahan di surga) maksudnya, buah-...</td>\n",
       "      <td>(Dan sampaikanlah berita gembira) kabarkanlah ...</td>\n",
       "    </tr>\n",
       "    <tr>\n",
       "      <th>2</th>\n",
       "      <td>2</td>\n",
       "      <td>Berapa banyak kematian dan berapa banyak nyawa...</td>\n",
       "      <td>Setelah itu, Dia menghidupkan kalian lagi untu...</td>\n",
       "    </tr>\n",
       "    <tr>\n",
       "      <th>3</th>\n",
       "      <td>3</td>\n",
       "      <td>Berapa banyak surga yang ada?</td>\n",
       "      <td>(Dialah yang telah menciptakan bagimu segala y...</td>\n",
       "    </tr>\n",
       "    <tr>\n",
       "      <th>4</th>\n",
       "      <td>4</td>\n",
       "      <td>Adam tidak pernah disentuh oleh malaikat kecua...</td>\n",
       "      <td>(Dan diajarkan-Nya kepada Adam nama-nama) maks...</td>\n",
       "    </tr>\n",
       "    <tr>\n",
       "      <th>...</th>\n",
       "      <td>...</td>\n",
       "      <td>...</td>\n",
       "      <td>...</td>\n",
       "    </tr>\n",
       "    <tr>\n",
       "      <th>1186</th>\n",
       "      <td>1218</td>\n",
       "      <td>(Dan siapakah) Istifham atau kata tanya di sin...</td>\n",
       "      <td>Dia Sarah.</td>\n",
       "    </tr>\n",
       "    <tr>\n",
       "      <th>1187</th>\n",
       "      <td>1219</td>\n",
       "      <td>Sesungguhnya Ibrahim itu benar-benar seorang y...</td>\n",
       "      <td>Sesungguhnya di antara yang mengikuti jejak da...</td>\n",
       "    </tr>\n",
       "    <tr>\n",
       "      <th>1188</th>\n",
       "      <td>1220</td>\n",
       "      <td>Nabi Luth merasa takut kaumnya akan melakukan ...</td>\n",
       "      <td>(Maka Yusuf berlaku takabur terhadap mereka ka...</td>\n",
       "    </tr>\n",
       "    <tr>\n",
       "      <th>1189</th>\n",
       "      <td>1221</td>\n",
       "      <td>(Mengapa) lafal Bal di sini menunjukkan makna ...</td>\n",
       "      <td>Jika aku mempunyai kekuatan dan dukungan dari ...</td>\n",
       "    </tr>\n",
       "    <tr>\n",
       "      <th>1190</th>\n",
       "      <td>1222</td>\n",
       "      <td>(Dan Yusuf berkata kepada pembantu-pembantunya...</td>\n",
       "      <td>(Yusuf berkata kepada pembantu-pembantunya) me...</td>\n",
       "    </tr>\n",
       "  </tbody>\n",
       "</table>\n",
       "<p>1191 rows × 3 columns</p>\n",
       "</div>"
      ],
      "text/plain": [
       "       idx                                        question_id  \\\n",
       "0        0  Apa satu - satunya buku yang bebas dari keragu...   \n",
       "1        1  (Apakah buah-buahan di surga) maksudnya, buah-...   \n",
       "2        2  Berapa banyak kematian dan berapa banyak nyawa...   \n",
       "3        3                      Berapa banyak surga yang ada?   \n",
       "4        4  Adam tidak pernah disentuh oleh malaikat kecua...   \n",
       "...    ...                                                ...   \n",
       "1186  1218  (Dan siapakah) Istifham atau kata tanya di sin...   \n",
       "1187  1219  Sesungguhnya Ibrahim itu benar-benar seorang y...   \n",
       "1188  1220  Nabi Luth merasa takut kaumnya akan melakukan ...   \n",
       "1189  1221  (Mengapa) lafal Bal di sini menunjukkan makna ...   \n",
       "1190  1222  (Dan Yusuf berkata kepada pembantu-pembantunya...   \n",
       "\n",
       "                                              answer_id  \n",
       "0     (Kitab ini) yakni yang dibaca oleh Muhammad sa...  \n",
       "1     (Dan sampaikanlah berita gembira) kabarkanlah ...  \n",
       "2     Setelah itu, Dia menghidupkan kalian lagi untu...  \n",
       "3     (Dialah yang telah menciptakan bagimu segala y...  \n",
       "4     (Dan diajarkan-Nya kepada Adam nama-nama) maks...  \n",
       "...                                                 ...  \n",
       "1186                                         Dia Sarah.  \n",
       "1187  Sesungguhnya di antara yang mengikuti jejak da...  \n",
       "1188  (Maka Yusuf berlaku takabur terhadap mereka ka...  \n",
       "1189  Jika aku mempunyai kekuatan dan dukungan dari ...  \n",
       "1190  (Yusuf berkata kepada pembantu-pembantunya) me...  \n",
       "\n",
       "[1191 rows x 3 columns]"
      ]
     },
     "execution_count": 4,
     "metadata": {},
     "output_type": "execute_result"
    }
   ],
   "source": [
    "df = pd.read_csv('../datasets/qa_id_clean.csv')\n",
    "\n",
    "train_examples = [\n",
    "    InputExample(texts=[row['question_id'], row['answer_id']])\n",
    "    for _, row in df.iterrows()\n",
    "]\n",
    "df"
   ]
  },
  {
   "cell_type": "code",
   "execution_count": 5,
   "id": "b766d95c",
   "metadata": {},
   "outputs": [],
   "source": [
    "# For the MultipleNegativesRankingLoss, it is important\n",
    "# that the batch does not contain duplicate entries, i.e.\n",
    "# no two equal queries and no two equal paragraphs.\n",
    "# To ensure this, we use a special data loader\n",
    "train_dataloader = datasets.NoDuplicatesDataLoader(train_examples, batch_size=4)\n",
    "# MultipleNegativesRankingLoss requires input pairs (query, relevant_passage)\n",
    "# and trains the model so that is is suitable for semantic search\n",
    "train_loss = losses.MultipleNegativesRankingLoss(model)"
   ]
  },
  {
   "cell_type": "code",
   "execution_count": 6,
   "id": "5219878b",
   "metadata": {},
   "outputs": [
    {
     "data": {
      "application/vnd.jupyter.widget-view+json": {
       "model_id": "6a1091f12f264888a60b4992ced942e3",
       "version_major": 2,
       "version_minor": 0
      },
      "text/plain": [
       "Computing widget examples:   0%|          | 0/1 [00:00<?, ?example/s]"
      ]
     },
     "metadata": {},
     "output_type": "display_data"
    },
    {
     "data": {
      "text/html": [
       "\n",
       "    <div>\n",
       "      \n",
       "      <progress value='891' max='891' style='width:300px; height:20px; vertical-align: middle;'></progress>\n",
       "      [891/891 1:56:56, Epoch 3/3]\n",
       "    </div>\n",
       "    <table border=\"1\" class=\"dataframe\">\n",
       "  <thead>\n",
       " <tr style=\"text-align: left;\">\n",
       "      <th>Step</th>\n",
       "      <th>Training Loss</th>\n",
       "    </tr>\n",
       "  </thead>\n",
       "  <tbody>\n",
       "    <tr>\n",
       "      <td>500</td>\n",
       "      <td>0.676600</td>\n",
       "    </tr>\n",
       "  </tbody>\n",
       "</table><p>"
      ],
      "text/plain": [
       "<IPython.core.display.HTML object>"
      ]
     },
     "metadata": {},
     "output_type": "display_data"
    }
   ],
   "source": [
    "#Tune the model\n",
    "num_epochs = 3\n",
    "warmup_steps = int(len(train_dataloader) * num_epochs * 0.1)\n",
    "model.fit(train_objectives=[(train_dataloader, train_loss)], epochs=num_epochs, warmup_steps=warmup_steps, show_progress_bar=True)"
   ]
  },
  {
   "cell_type": "code",
   "execution_count": 4,
   "id": "d9048a07",
   "metadata": {},
   "outputs": [],
   "source": [
    "output_dir = \"indo-sbert-finetuned-qa\"\n"
   ]
  },
  {
   "cell_type": "code",
   "execution_count": null,
   "id": "3865c958",
   "metadata": {},
   "outputs": [],
   "source": [
    "model.save(output_dir)"
   ]
  },
  {
   "cell_type": "code",
   "execution_count": 3,
   "id": "9fe12008",
   "metadata": {},
   "outputs": [
    {
     "data": {
      "application/vnd.jupyter.widget-view+json": {
       "model_id": "f7963d642e814f369fc3bd876999823c",
       "version_major": 2,
       "version_minor": 0
      },
      "text/plain": [
       "VBox(children=(HTML(value='<center> <img\\nsrc=https://huggingface.co/front/assets/huggingface_logo-noborder.sv…"
      ]
     },
     "metadata": {},
     "output_type": "display_data"
    }
   ],
   "source": [
    "from huggingface_hub import notebook_login\n",
    "\n",
    "notebook_login()"
   ]
  },
  {
   "cell_type": "code",
   "execution_count": 5,
   "id": "933ec822",
   "metadata": {},
   "outputs": [],
   "source": [
    "model = SentenceTransformer(output_dir)"
   ]
  },
  {
   "cell_type": "code",
   "execution_count": 8,
   "id": "e3eab9f6",
   "metadata": {},
   "outputs": [
    {
     "data": {
      "application/vnd.jupyter.widget-view+json": {
       "model_id": "343bb53dc6c4435eb3666928651edda9",
       "version_major": 2,
       "version_minor": 0
      },
      "text/plain": [
       "model.safetensors:   0%|          | 0.00/1.34G [00:00<?, ?B/s]"
      ]
     },
     "metadata": {},
     "output_type": "display_data"
    },
    {
     "data": {
      "text/plain": [
       "'https://huggingface.co/devvevan/indo-sbert-finetuned-qa/commit/c4c8fe6f5a04833d349efb33189cec3bce0e2281'"
      ]
     },
     "execution_count": 8,
     "metadata": {},
     "output_type": "execute_result"
    }
   ],
   "source": [
    "model.push_to_hub(output_dir, commit_message=\"Initial fine-tuned IndoSBERT QA\")"
   ]
  },
  {
   "cell_type": "code",
   "execution_count": 9,
   "id": "53ac05ed",
   "metadata": {},
   "outputs": [
    {
     "data": {
      "application/vnd.jupyter.widget-view+json": {
       "model_id": "60b5431ad1e24c1f82361ea7bbb65e87",
       "version_major": 2,
       "version_minor": 0
      },
      "text/plain": [
       "modules.json:   0%|          | 0.00/242 [00:00<?, ?B/s]"
      ]
     },
     "metadata": {},
     "output_type": "display_data"
    },
    {
     "data": {
      "application/vnd.jupyter.widget-view+json": {
       "model_id": "6b06e695aeb34237ab278c89c09064be",
       "version_major": 2,
       "version_minor": 0
      },
      "text/plain": [
       "config_sentence_transformers.json:   0%|          | 0.00/226 [00:00<?, ?B/s]"
      ]
     },
     "metadata": {},
     "output_type": "display_data"
    },
    {
     "data": {
      "application/vnd.jupyter.widget-view+json": {
       "model_id": "dd3b668f97a444de8bcce071c671bd3b",
       "version_major": 2,
       "version_minor": 0
      },
      "text/plain": [
       "README.md:   0%|          | 0.00/26.3k [00:00<?, ?B/s]"
      ]
     },
     "metadata": {},
     "output_type": "display_data"
    },
    {
     "data": {
      "application/vnd.jupyter.widget-view+json": {
       "model_id": "0f7b86f9171d4dc5b7b99c20c2dff9db",
       "version_major": 2,
       "version_minor": 0
      },
      "text/plain": [
       "sentence_bert_config.json:   0%|          | 0.00/56.0 [00:00<?, ?B/s]"
      ]
     },
     "metadata": {},
     "output_type": "display_data"
    },
    {
     "data": {
      "application/vnd.jupyter.widget-view+json": {
       "model_id": "cf3eee1d94ac4a5ba8e4de5bf69508e8",
       "version_major": 2,
       "version_minor": 0
      },
      "text/plain": [
       "config.json:   0%|          | 0.00/1.14k [00:00<?, ?B/s]"
      ]
     },
     "metadata": {},
     "output_type": "display_data"
    },
    {
     "data": {
      "application/vnd.jupyter.widget-view+json": {
       "model_id": "10960bff591e4ba8b7be82c64c2d2321",
       "version_major": 2,
       "version_minor": 0
      },
      "text/plain": [
       "model.safetensors:   0%|          | 0.00/1.34G [00:00<?, ?B/s]"
      ]
     },
     "metadata": {},
     "output_type": "display_data"
    },
    {
     "data": {
      "application/vnd.jupyter.widget-view+json": {
       "model_id": "984f57cf04a046f8b3e51311db23ee51",
       "version_major": 2,
       "version_minor": 0
      },
      "text/plain": [
       "tokenizer_config.json:   0%|          | 0.00/1.52k [00:00<?, ?B/s]"
      ]
     },
     "metadata": {},
     "output_type": "display_data"
    },
    {
     "data": {
      "application/vnd.jupyter.widget-view+json": {
       "model_id": "7a0d5d145adc4fec81bbe290ab8a4aa2",
       "version_major": 2,
       "version_minor": 0
      },
      "text/plain": [
       "vocab.txt:   0%|          | 0.00/229k [00:00<?, ?B/s]"
      ]
     },
     "metadata": {},
     "output_type": "display_data"
    },
    {
     "data": {
      "application/vnd.jupyter.widget-view+json": {
       "model_id": "4a1be2b1476d4baa98be6a10650c30a3",
       "version_major": 2,
       "version_minor": 0
      },
      "text/plain": [
       "tokenizer.json:   0%|          | 0.00/709k [00:00<?, ?B/s]"
      ]
     },
     "metadata": {},
     "output_type": "display_data"
    },
    {
     "data": {
      "application/vnd.jupyter.widget-view+json": {
       "model_id": "b1748d628fed4358b68cd751f065f994",
       "version_major": 2,
       "version_minor": 0
      },
      "text/plain": [
       "special_tokens_map.json:   0%|          | 0.00/732 [00:00<?, ?B/s]"
      ]
     },
     "metadata": {},
     "output_type": "display_data"
    },
    {
     "data": {
      "application/vnd.jupyter.widget-view+json": {
       "model_id": "07b3d3c0d8944623bbb342545e8bb5b2",
       "version_major": 2,
       "version_minor": 0
      },
      "text/plain": [
       "config.json:   0%|          | 0.00/306 [00:00<?, ?B/s]"
      ]
     },
     "metadata": {},
     "output_type": "display_data"
    }
   ],
   "source": [
    "model_finetune = SentenceTransformer('devvevan/indo-sbert-finetuned-qa')"
   ]
  }
 ],
 "metadata": {
  "kernelspec": {
   "display_name": ".venv",
   "language": "python",
   "name": "python3"
  },
  "language_info": {
   "codemirror_mode": {
    "name": "ipython",
    "version": 3
   },
   "file_extension": ".py",
   "mimetype": "text/x-python",
   "name": "python",
   "nbconvert_exporter": "python",
   "pygments_lexer": "ipython3",
   "version": "3.12.4"
  }
 },
 "nbformat": 4,
 "nbformat_minor": 5
}
