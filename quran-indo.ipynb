{
 "cells": [
  {
   "cell_type": "code",
   "execution_count": 28,
   "metadata": {},
   "outputs": [],
   "source": [
    "import pandas as pd"
   ]
  },
  {
   "cell_type": "code",
   "execution_count": 29,
   "metadata": {},
   "outputs": [
    {
     "data": {
      "text/html": [
       "<div>\n",
       "<style scoped>\n",
       "    .dataframe tbody tr th:only-of-type {\n",
       "        vertical-align: middle;\n",
       "    }\n",
       "\n",
       "    .dataframe tbody tr th {\n",
       "        vertical-align: top;\n",
       "    }\n",
       "\n",
       "    .dataframe thead th {\n",
       "        text-align: right;\n",
       "    }\n",
       "</style>\n",
       "<table border=\"1\" class=\"dataframe\">\n",
       "  <thead>\n",
       "    <tr style=\"text-align: right;\">\n",
       "      <th></th>\n",
       "      <th>id</th>\n",
       "      <th>suraId</th>\n",
       "      <th>verseID</th>\n",
       "      <th>ayahText</th>\n",
       "      <th>indoText</th>\n",
       "      <th>readText</th>\n",
       "    </tr>\n",
       "  </thead>\n",
       "  <tbody>\n",
       "    <tr>\n",
       "      <th>0</th>\n",
       "      <td>0</td>\n",
       "      <td>1</td>\n",
       "      <td>1</td>\n",
       "      <td>بِسْمِ اللّٰهِ الرَّحْمٰنِ الرَّحِيْمِ</td>\n",
       "      <td>Dengan nama Allah Yang Maha Pengasih, Maha Pen...</td>\n",
       "      <td>bismillāhir-raḥmānir-raḥīm</td>\n",
       "    </tr>\n",
       "    <tr>\n",
       "      <th>1</th>\n",
       "      <td>1</td>\n",
       "      <td>1</td>\n",
       "      <td>2</td>\n",
       "      <td>اَلْحَمْدُ لِلّٰهِ رَبِّ الْعٰلَمِيْنَۙ</td>\n",
       "      <td>Segala puji bagi Allah, Tuhan seluruh alam,</td>\n",
       "      <td>al-ḥamdu lillāhi rabbil-'ālamīn</td>\n",
       "    </tr>\n",
       "    <tr>\n",
       "      <th>2</th>\n",
       "      <td>2</td>\n",
       "      <td>1</td>\n",
       "      <td>3</td>\n",
       "      <td>الرَّحْمٰنِ الرَّحِيْمِۙ</td>\n",
       "      <td>Yang Maha Pengasih, Maha Penyayang,</td>\n",
       "      <td>ar-raḥmānir-raḥīm</td>\n",
       "    </tr>\n",
       "    <tr>\n",
       "      <th>3</th>\n",
       "      <td>3</td>\n",
       "      <td>1</td>\n",
       "      <td>4</td>\n",
       "      <td>مٰلِكِ يَوْمِ الدِّيْنِۗ</td>\n",
       "      <td>Pemilik hari pembalasan.</td>\n",
       "      <td>māliki yaumid-dīn</td>\n",
       "    </tr>\n",
       "    <tr>\n",
       "      <th>4</th>\n",
       "      <td>4</td>\n",
       "      <td>1</td>\n",
       "      <td>5</td>\n",
       "      <td>اِيَّاكَ نَعْبُدُ وَاِيَّاكَ نَسْتَعِيْنُۗ</td>\n",
       "      <td>Hanya kepada Engkaulah kami menyembah dan hany...</td>\n",
       "      <td>iyyāka na'budu wa iyyāka nasta'īn</td>\n",
       "    </tr>\n",
       "  </tbody>\n",
       "</table>\n",
       "</div>"
      ],
      "text/plain": [
       "   id  suraId  verseID                                    ayahText  \\\n",
       "0   0       1        1      بِسْمِ اللّٰهِ الرَّحْمٰنِ الرَّحِيْمِ   \n",
       "1   1       1        2     اَلْحَمْدُ لِلّٰهِ رَبِّ الْعٰلَمِيْنَۙ   \n",
       "2   2       1        3                    الرَّحْمٰنِ الرَّحِيْمِۙ   \n",
       "3   3       1        4                    مٰلِكِ يَوْمِ الدِّيْنِۗ   \n",
       "4   4       1        5  اِيَّاكَ نَعْبُدُ وَاِيَّاكَ نَسْتَعِيْنُۗ   \n",
       "\n",
       "                                            indoText  \\\n",
       "0  Dengan nama Allah Yang Maha Pengasih, Maha Pen...   \n",
       "1        Segala puji bagi Allah, Tuhan seluruh alam,   \n",
       "2                Yang Maha Pengasih, Maha Penyayang,   \n",
       "3                           Pemilik hari pembalasan.   \n",
       "4  Hanya kepada Engkaulah kami menyembah dan hany...   \n",
       "\n",
       "                            readText  \n",
       "0         bismillāhir-raḥmānir-raḥīm  \n",
       "1    al-ḥamdu lillāhi rabbil-'ālamīn  \n",
       "2                  ar-raḥmānir-raḥīm  \n",
       "3                  māliki yaumid-dīn  \n",
       "4  iyyāka na'budu wa iyyāka nasta'īn  "
      ]
     },
     "execution_count": 29,
     "metadata": {},
     "output_type": "execute_result"
    }
   ],
   "source": [
    "df = pd.read_csv('quran_id.csv')\n",
    "df.head()"
   ]
  },
  {
   "cell_type": "code",
   "execution_count": 30,
   "metadata": {},
   "outputs": [
    {
     "name": "stdout",
     "output_type": "stream",
     "text": [
      "<class 'pandas.core.frame.DataFrame'>\n",
      "RangeIndex: 100 entries, 0 to 99\n",
      "Data columns (total 6 columns):\n",
      " #   Column    Non-Null Count  Dtype \n",
      "---  ------    --------------  ----- \n",
      " 0   id        100 non-null    int64 \n",
      " 1   suraId    100 non-null    int64 \n",
      " 2   verseID   100 non-null    int64 \n",
      " 3   ayahText  100 non-null    object\n",
      " 4   indoText  100 non-null    object\n",
      " 5   readText  100 non-null    object\n",
      "dtypes: int64(3), object(3)\n",
      "memory usage: 4.8+ KB\n"
     ]
    }
   ],
   "source": [
    "df.info()"
   ]
  },
  {
   "cell_type": "code",
   "execution_count": 31,
   "metadata": {},
   "outputs": [
    {
     "data": {
      "text/html": [
       "<div>\n",
       "<style scoped>\n",
       "    .dataframe tbody tr th:only-of-type {\n",
       "        vertical-align: middle;\n",
       "    }\n",
       "\n",
       "    .dataframe tbody tr th {\n",
       "        vertical-align: top;\n",
       "    }\n",
       "\n",
       "    .dataframe thead th {\n",
       "        text-align: right;\n",
       "    }\n",
       "</style>\n",
       "<table border=\"1\" class=\"dataframe\">\n",
       "  <thead>\n",
       "    <tr style=\"text-align: right;\">\n",
       "      <th></th>\n",
       "      <th>id</th>\n",
       "      <th>suraId</th>\n",
       "      <th>verseID</th>\n",
       "    </tr>\n",
       "  </thead>\n",
       "  <tbody>\n",
       "    <tr>\n",
       "      <th>count</th>\n",
       "      <td>100.000000</td>\n",
       "      <td>100.000000</td>\n",
       "      <td>100.000000</td>\n",
       "    </tr>\n",
       "    <tr>\n",
       "      <th>mean</th>\n",
       "      <td>49.500000</td>\n",
       "      <td>1.930000</td>\n",
       "      <td>43.990000</td>\n",
       "    </tr>\n",
       "    <tr>\n",
       "      <th>std</th>\n",
       "      <td>29.011492</td>\n",
       "      <td>0.256432</td>\n",
       "      <td>28.264085</td>\n",
       "    </tr>\n",
       "    <tr>\n",
       "      <th>min</th>\n",
       "      <td>0.000000</td>\n",
       "      <td>1.000000</td>\n",
       "      <td>1.000000</td>\n",
       "    </tr>\n",
       "    <tr>\n",
       "      <th>25%</th>\n",
       "      <td>24.750000</td>\n",
       "      <td>2.000000</td>\n",
       "      <td>18.750000</td>\n",
       "    </tr>\n",
       "    <tr>\n",
       "      <th>50%</th>\n",
       "      <td>49.500000</td>\n",
       "      <td>2.000000</td>\n",
       "      <td>43.500000</td>\n",
       "    </tr>\n",
       "    <tr>\n",
       "      <th>75%</th>\n",
       "      <td>74.250000</td>\n",
       "      <td>2.000000</td>\n",
       "      <td>68.250000</td>\n",
       "    </tr>\n",
       "    <tr>\n",
       "      <th>max</th>\n",
       "      <td>99.000000</td>\n",
       "      <td>2.000000</td>\n",
       "      <td>93.000000</td>\n",
       "    </tr>\n",
       "  </tbody>\n",
       "</table>\n",
       "</div>"
      ],
      "text/plain": [
       "               id      suraId     verseID\n",
       "count  100.000000  100.000000  100.000000\n",
       "mean    49.500000    1.930000   43.990000\n",
       "std     29.011492    0.256432   28.264085\n",
       "min      0.000000    1.000000    1.000000\n",
       "25%     24.750000    2.000000   18.750000\n",
       "50%     49.500000    2.000000   43.500000\n",
       "75%     74.250000    2.000000   68.250000\n",
       "max     99.000000    2.000000   93.000000"
      ]
     },
     "execution_count": 31,
     "metadata": {},
     "output_type": "execute_result"
    }
   ],
   "source": [
    "df.describe()"
   ]
  },
  {
   "cell_type": "code",
   "execution_count": 32,
   "metadata": {},
   "outputs": [],
   "source": [
    "# juz30 = df[df['suraId']>=78]\n",
    "# juz30"
   ]
  },
  {
   "cell_type": "code",
   "execution_count": 33,
   "metadata": {},
   "outputs": [
    {
     "name": "stderr",
     "output_type": "stream",
     "text": [
      "A parameter name that contains `beta` will be renamed internally to `bias`. Please use a different name to suppress this warning.\n",
      "A parameter name that contains `gamma` will be renamed internally to `weight`. Please use a different name to suppress this warning.\n",
      "A parameter name that contains `beta` will be renamed internally to `bias`. Please use a different name to suppress this warning.\n",
      "A parameter name that contains `gamma` will be renamed internally to `weight`. Please use a different name to suppress this warning.\n",
      "A parameter name that contains `beta` will be renamed internally to `bias`. Please use a different name to suppress this warning.\n",
      "A parameter name that contains `gamma` will be renamed internally to `weight`. Please use a different name to suppress this warning.\n",
      "A parameter name that contains `beta` will be renamed internally to `bias`. Please use a different name to suppress this warning.\n",
      "A parameter name that contains `gamma` will be renamed internally to `weight`. Please use a different name to suppress this warning.\n",
      "A parameter name that contains `beta` will be renamed internally to `bias`. Please use a different name to suppress this warning.\n",
      "A parameter name that contains `gamma` will be renamed internally to `weight`. Please use a different name to suppress this warning.\n",
      "A parameter name that contains `beta` will be renamed internally to `bias`. Please use a different name to suppress this warning.\n",
      "A parameter name that contains `gamma` will be renamed internally to `weight`. Please use a different name to suppress this warning.\n",
      "A parameter name that contains `beta` will be renamed internally to `bias`. Please use a different name to suppress this warning.\n",
      "A parameter name that contains `gamma` will be renamed internally to `weight`. Please use a different name to suppress this warning.\n",
      "A parameter name that contains `beta` will be renamed internally to `bias`. Please use a different name to suppress this warning.\n",
      "A parameter name that contains `gamma` will be renamed internally to `weight`. Please use a different name to suppress this warning.\n",
      "A parameter name that contains `beta` will be renamed internally to `bias`. Please use a different name to suppress this warning.\n",
      "A parameter name that contains `gamma` will be renamed internally to `weight`. Please use a different name to suppress this warning.\n",
      "A parameter name that contains `beta` will be renamed internally to `bias`. Please use a different name to suppress this warning.\n",
      "A parameter name that contains `gamma` will be renamed internally to `weight`. Please use a different name to suppress this warning.\n",
      "A parameter name that contains `beta` will be renamed internally to `bias`. Please use a different name to suppress this warning.\n",
      "A parameter name that contains `gamma` will be renamed internally to `weight`. Please use a different name to suppress this warning.\n",
      "A parameter name that contains `beta` will be renamed internally to `bias`. Please use a different name to suppress this warning.\n",
      "A parameter name that contains `gamma` will be renamed internally to `weight`. Please use a different name to suppress this warning.\n",
      "A parameter name that contains `beta` will be renamed internally to `bias`. Please use a different name to suppress this warning.\n",
      "A parameter name that contains `gamma` will be renamed internally to `weight`. Please use a different name to suppress this warning.\n",
      "A parameter name that contains `beta` will be renamed internally to `bias`. Please use a different name to suppress this warning.\n",
      "A parameter name that contains `gamma` will be renamed internally to `weight`. Please use a different name to suppress this warning.\n",
      "A parameter name that contains `beta` will be renamed internally to `bias`. Please use a different name to suppress this warning.\n",
      "A parameter name that contains `gamma` will be renamed internally to `weight`. Please use a different name to suppress this warning.\n",
      "A parameter name that contains `beta` will be renamed internally to `bias`. Please use a different name to suppress this warning.\n",
      "A parameter name that contains `gamma` will be renamed internally to `weight`. Please use a different name to suppress this warning.\n",
      "A parameter name that contains `beta` will be renamed internally to `bias`. Please use a different name to suppress this warning.\n",
      "A parameter name that contains `gamma` will be renamed internally to `weight`. Please use a different name to suppress this warning.\n",
      "A parameter name that contains `beta` will be renamed internally to `bias`. Please use a different name to suppress this warning.\n",
      "A parameter name that contains `gamma` will be renamed internally to `weight`. Please use a different name to suppress this warning.\n",
      "A parameter name that contains `beta` will be renamed internally to `bias`. Please use a different name to suppress this warning.\n",
      "A parameter name that contains `gamma` will be renamed internally to `weight`. Please use a different name to suppress this warning.\n",
      "A parameter name that contains `beta` will be renamed internally to `bias`. Please use a different name to suppress this warning.\n",
      "A parameter name that contains `gamma` will be renamed internally to `weight`. Please use a different name to suppress this warning.\n",
      "A parameter name that contains `beta` will be renamed internally to `bias`. Please use a different name to suppress this warning.\n",
      "A parameter name that contains `gamma` will be renamed internally to `weight`. Please use a different name to suppress this warning.\n",
      "A parameter name that contains `beta` will be renamed internally to `bias`. Please use a different name to suppress this warning.\n",
      "A parameter name that contains `gamma` will be renamed internally to `weight`. Please use a different name to suppress this warning.\n",
      "A parameter name that contains `beta` will be renamed internally to `bias`. Please use a different name to suppress this warning.\n",
      "A parameter name that contains `gamma` will be renamed internally to `weight`. Please use a different name to suppress this warning.\n",
      "A parameter name that contains `beta` will be renamed internally to `bias`. Please use a different name to suppress this warning.\n",
      "A parameter name that contains `gamma` will be renamed internally to `weight`. Please use a different name to suppress this warning.\n",
      "A parameter name that contains `beta` will be renamed internally to `bias`. Please use a different name to suppress this warning.\n",
      "A parameter name that contains `gamma` will be renamed internally to `weight`. Please use a different name to suppress this warning.\n",
      "A parameter name that contains `beta` will be renamed internally to `bias`. Please use a different name to suppress this warning.\n",
      "A parameter name that contains `gamma` will be renamed internally to `weight`. Please use a different name to suppress this warning.\n"
     ]
    }
   ],
   "source": [
    "from transformers import BertTokenizer, BertModel\n",
    "import torch\n",
    "\n",
    "# Memuat pre-trained model BERT dan tokenizer\n",
    "tokenizer = BertTokenizer.from_pretrained('bert-base-uncased')\n",
    "model = BertModel.from_pretrained('bert-base-uncased')\n",
    "\n",
    "# Fungsi untuk menghasilkan embedding BERT\n",
    "def get_bert_embedding(text):\n",
    "    inputs = tokenizer(text, return_tensors='pt', max_length=512, truncation=True, padding='max_length')\n",
    "    with torch.no_grad():\n",
    "        outputs = model(**inputs)\n",
    "    # Mengambil rata-rata dari seluruh token untuk mendapatkan vektor 2D\n",
    "    return outputs.last_hidden_state.mean(dim=1).squeeze().numpy()\n"
   ]
  },
  {
   "cell_type": "code",
   "execution_count": 34,
   "metadata": {},
   "outputs": [],
   "source": [
    "import pandas as pd\n",
    "\n",
    "# Memuat dataset Al-Qur'an dari file CSV\n",
    "dataset = pd.read_csv('quran_id.csv')\n",
    "\n",
    "# Menghasilkan embedding untuk setiap ayat\n",
    "dataset['embedding'] = dataset['indoText'].apply(lambda x: get_bert_embedding(x))\n"
   ]
  },
  {
   "cell_type": "code",
   "execution_count": 37,
   "metadata": {},
   "outputs": [
    {
     "name": "stdout",
     "output_type": "stream",
     "text": [
      "    suraId  verseID                                           ayahText  \\\n",
      "3        1        4                           مٰلِكِ يَوْمِ الدِّيْنِۗ   \n",
      "1        1        2            اَلْحَمْدُ لِلّٰهِ رَبِّ الْعٰلَمِيْنَۙ   \n",
      "24       2       18     صُمٌّ ۢ بُكْمٌ عُمْيٌ فَهُمْ لَا يَرْجِعُوْنَۙ   \n",
      "8        2        2  ذٰلِكَ الْكِتٰبُ لَا رَيْبَ ۛ فِيْهِ ۛ هُدًى ل...   \n",
      "18       2       12  اَلَآ اِنَّهُمْ هُمُ الْمُفْسِدُوْنَ وَلٰكِنْ...   \n",
      "\n",
      "                                             indoText  \n",
      "3                            Pemilik hari pembalasan.  \n",
      "1         Segala puji bagi Allah, Tuhan seluruh alam,  \n",
      "24  Mereka tuli, bisu dan buta, sehingga mereka ti...  \n",
      "8   Kitab (Al-Qur'an) ini tidak ada keraguan padan...  \n",
      "18  Ingatlah, sesungguhnya merekalah yang berbuat ...  \n"
     ]
    }
   ],
   "source": [
    "from sklearn.metrics.pairwise import cosine_similarity\n",
    "\n",
    "# Fungsi untuk melakukan pencarian\n",
    "def search_ayah(query, dataset, top_n=5):\n",
    "    query_embedding = get_bert_embedding(query).reshape(1, -1)\n",
    "    similarities = cosine_similarity(query_embedding, list(dataset['embedding']))\n",
    "    \n",
    "    # Mengambil ayat dengan kesamaan tertinggi\n",
    "    top_indices = similarities.argsort()[0][-top_n:][::-1]\n",
    "    return dataset.iloc[top_indices][['suraId', 'verseID', 'ayahText', 'indoText']]\n",
    "\n",
    "# Contoh pencarian\n",
    "query = \"kasih sayang\"\n",
    "results = search_ayah(query, dataset)\n",
    "print(results)\n"
   ]
  },
  {
   "cell_type": "code",
   "execution_count": 39,
   "metadata": {},
   "outputs": [
    {
     "name": "stdout",
     "output_type": "stream",
     "text": [
      "    suraId  verseID                                           ayahText  \\\n",
      "7        2        1                                           الۤمّۤ ۚ   \n",
      "3        1        4                           مٰلِكِ يَوْمِ الدِّيْنِۗ   \n",
      "58       2       52  ثُمَّ عَفَوْنَا عَنْكُمْ مِّنْۢ بَعْدِ ذٰلِكَ ...   \n",
      "1        1        2            اَلْحَمْدُ لِلّٰهِ رَبِّ الْعٰلَمِيْنَۙ   \n",
      "8        2        2  ذٰلِكَ الْكِتٰبُ لَا رَيْبَ ۛ فِيْهِ ۛ هُدًى ل...   \n",
      "\n",
      "                                             indoText  \n",
      "7                                       Alif Lam Mim.  \n",
      "3                            Pemilik hari pembalasan.  \n",
      "58  Kemudian Kami memaafkan kamu setelah itu, agar...  \n",
      "1         Segala puji bagi Allah, Tuhan seluruh alam,  \n",
      "8   Kitab (Al-Qur'an) ini tidak ada keraguan padan...  \n"
     ]
    }
   ],
   "source": [
    "query = \"iman\"\n",
    "results = search_ayah(query, dataset)\n",
    "print(results)"
   ]
  },
  {
   "cell_type": "code",
   "execution_count": 40,
   "metadata": {},
   "outputs": [
    {
     "name": "stdout",
     "output_type": "stream",
     "text": [
      "    suraId  verseID                                           ayahText  \\\n",
      "1        1        2            اَلْحَمْدُ لِلّٰهِ رَبِّ الْعٰلَمِيْنَۙ   \n",
      "83       2       77  اَوَلَا يَعْلَمُوْنَ اَنَّ اللّٰهَ يَعْلَمُ مَ...   \n",
      "43       2       37  فَتَلَقّٰٓى اٰدَمُ مِنْ رَّبِّهٖ كَلِمٰتٍ فَتَ...   \n",
      "24       2       18     صُمٌّ ۢ بُكْمٌ عُمْيٌ فَهُمْ لَا يَرْجِعُوْنَۙ   \n",
      "58       2       52  ثُمَّ عَفَوْنَا عَنْكُمْ مِّنْۢ بَعْدِ ذٰلِكَ ...   \n",
      "\n",
      "                                             indoText  \n",
      "1         Segala puji bagi Allah, Tuhan seluruh alam,  \n",
      "83  Dan tidakkah mereka tahu bahwa Allah mengetahu...  \n",
      "43  Kemudian Adam menerima beberapa kalimat dari T...  \n",
      "24  Mereka tuli, bisu dan buta, sehingga mereka ti...  \n",
      "58  Kemudian Kami memaafkan kamu setelah itu, agar...  \n"
     ]
    }
   ],
   "source": [
    "query = \"tauhid\"\n",
    "results = search_ayah(query, dataset)\n",
    "print(results)"
   ]
  }
 ],
 "metadata": {
  "kernelspec": {
   "display_name": "Python 3",
   "language": "python",
   "name": "python3"
  },
  "language_info": {
   "codemirror_mode": {
    "name": "ipython",
    "version": 3
   },
   "file_extension": ".py",
   "mimetype": "text/x-python",
   "name": "python",
   "nbconvert_exporter": "python",
   "pygments_lexer": "ipython3",
   "version": "3.10.0"
  }
 },
 "nbformat": 4,
 "nbformat_minor": 2
}
