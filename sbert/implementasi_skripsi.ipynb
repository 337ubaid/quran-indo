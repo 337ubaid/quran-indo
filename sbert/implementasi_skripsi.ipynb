{
 "cells": [
  {
   "cell_type": "code",
   "execution_count": null,
   "id": "77861ff0",
   "metadata": {},
   "outputs": [],
   "source": [
    "import numpy as np\n",
    "import pandas as pd\n",
    "import time\n",
    "import seaborn as sns\n",
    "import matplotlib.pyplot as plt\n",
    "from sentence_transformers import SentenceTransformer, models\n",
    "import faiss"
   ]
  },
  {
   "cell_type": "code",
   "execution_count": 6,
   "id": "122800fd",
   "metadata": {},
   "outputs": [
    {
     "name": "stdout",
     "output_type": "stream",
     "text": [
      "<class 'pandas.core.frame.DataFrame'>\n",
      "RangeIndex: 6236 entries, 0 to 6235\n",
      "Data columns (total 6 columns):\n",
      " #   Column    Non-Null Count  Dtype \n",
      "---  ------    --------------  ----- \n",
      " 0   id        6236 non-null   int64 \n",
      " 1   suraId    6236 non-null   int64 \n",
      " 2   verseID   6236 non-null   int64 \n",
      " 3   ayahText  6236 non-null   object\n",
      " 4   indoText  6236 non-null   object\n",
      " 5   readText  6236 non-null   object\n",
      "dtypes: int64(3), object(3)\n",
      "memory usage: 292.4+ KB\n"
     ]
    }
   ],
   "source": [
    "# Read Data\n",
    "data = pd.read_csv('../quran_id_full.csv',memory_map=True)\n",
    "df_quran = data[['id', 'suraId', 'verseID', 'indoText']]\n",
    "data.info()"
   ]
  },
  {
   "cell_type": "code",
   "execution_count": 7,
   "id": "6218e1ed",
   "metadata": {},
   "outputs": [],
   "source": [
    "# store embeded doc to faiss\n",
    "model = SentenceTransformer('msmarco-distilbert-base-dot-prod-v3')\n",
    "encoded_data = model.encode(df_quran.indoText.tolist())\n",
    "encoded_data = np.asarray(encoded_data.astype('float32'))\n",
    "index = faiss.IndexIDMap(faiss.IndexFlatIP(768))\n",
    "index.add_with_ids(encoded_data, np.array(range(0, len(df_quran))))"
   ]
  },
  {
   "cell_type": "code",
   "execution_count": 10,
   "id": "7b9bd8f8",
   "metadata": {},
   "outputs": [],
   "source": [
    "def fetch_ayat_info(dataframe_idx):\n",
    "    info = df_quran.iloc[dataframe_idx]\n",
    "    meta_dict = {}\n",
    "    meta_dict['no_surat'] = info['suraId']\n",
    "    meta_dict['no_ayat'] = info['verseID']\n",
    "    meta_dict['teks'] = info['indoText']\n",
    "    return meta_dict\n",
    "    \n",
    "def search(query, top_k, index, model):\n",
    "    t=time.time()\n",
    "    query_vector = model.encode([query])\n",
    "    top_k = index.search(query_vector, top_k)\n",
    "    print(top_k)\n",
    "    print('>>>> Results in Total Time: {}'.format(time.time()-t))\n",
    "    top_k_ids = top_k[1].tolist()[0]\n",
    "    top_k_ids = list(np.unique(top_k_ids))\n",
    "    results =  [fetch_ayat_info(idx) for idx in top_k_ids]\n",
    "    return results"
   ]
  },
  {
   "cell_type": "code",
   "execution_count": 9,
   "id": "4d52461d",
   "metadata": {},
   "outputs": [
    {
     "name": "stdout",
     "output_type": "stream",
     "text": [
      "(array([[55.207024, 51.177605, 51.139008, 50.94593 , 50.690063]],\n",
      "      dtype=float32), array([[1922, 1739, 1635, 3527, 3319]]))\n",
      ">>>> Results in Total Time: 0.05801200866699219\n",
      "\n",
      "\n",
      "\t {'no_surat': np.int64(12), 'no_ayat': np.int64(40), 'teks': 'Apa yang kamu sembah selain Dia, hanyalah nama-nama yang kamu buat-buat baik oleh kamu sendiri maupun oleh nenek moyangmu. Allah tidak menurunkan suatu keterangan pun tentang hal (nama-nama) itu. Keputusan itu hanyalah milik Allah. Dia telah memerintahkan agar kamu tidak menyembah selain Dia. Itulah agama yang lurus, tetapi kebanyakan manusia tidak mengetahui.'}\n",
      "\t {'no_surat': np.int64(13), 'no_ayat': np.int64(33), 'teks': 'Maka apakah Tuhan yang menjaga setiap jiwa terhadap apa yang diperbuatnya (sama dengan yang lain)? Mereka menjadikan sekutu-sekutu bagi Allah. Katakanlah, “Sebutkanlah sifat-sifat mereka itu.” Atau apakah kamu hendak memberitahukan kepada Allah apa yang tidak diketahui-Nya di bumi, atau (mengatakan tentang hal itu) sekedar perkataan pada lahirnya saja. Sebenarnya bagi orang kafir, tipu daya mereka itu dijadikan terasa indah, dan mereka dihalangi dari jalan (yang benar). Dan barangsiapa disesatkan Allah, maka tidak ada seorang pun yang memberi petunjuk baginya.'}\n",
      "\t {'no_surat': np.int64(16), 'no_ayat': np.int64(22), 'teks': 'Tuhan kamu adalah Tuhan Yang Maha Esa. Maka orang yang tidak beriman kepada akhirat, hati mereka mengingkari (keesaan Allah), dan mereka adalah orang yang sombong.'}\n",
      "\t {'no_surat': np.int64(28), 'no_ayat': np.int64(68), 'teks': 'Dan Tuhanmu menciptakan dan memilih apa yang Dia kehendaki. Bagi mereka (manusia) tidak ada pilihan. Mahasuci Allah dan Mahatinggi Dia dari apa yang mereka persekutukan.'}\n",
      "\t {'no_surat': np.int64(32), 'no_ayat': np.int64(25), 'teks': 'Sungguh Tuhanmu, Dia yang memberikan keputusan di antara mereka pada hari Kiamat tentang apa yang dahulu mereka perselisihkan padanya.'}\n"
     ]
    }
   ],
   "source": [
    "query=\"apa itu tuhan yang maha esa\"\n",
    "results=search(query, top_k=5, index=index, model=model)\n",
    "\n",
    "print(\"\\n\")\n",
    "for result in results:\n",
    "    print('\\t',result)"
   ]
  }
 ],
 "metadata": {
  "kernelspec": {
   "display_name": ".venv",
   "language": "python",
   "name": "python3"
  },
  "language_info": {
   "codemirror_mode": {
    "name": "ipython",
    "version": 3
   },
   "file_extension": ".py",
   "mimetype": "text/x-python",
   "name": "python",
   "nbconvert_exporter": "python",
   "pygments_lexer": "ipython3",
   "version": "3.12.0"
  }
 },
 "nbformat": 4,
 "nbformat_minor": 5
}
