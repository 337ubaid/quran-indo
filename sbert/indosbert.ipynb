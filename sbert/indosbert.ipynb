{
 "cells": [
  {
   "cell_type": "markdown",
   "id": "ad134150",
   "metadata": {},
   "source": [
    "# Simple Semantic Search"
   ]
  },
  {
   "cell_type": "code",
   "execution_count": 13,
   "id": "5d16dc0e",
   "metadata": {},
   "outputs": [],
   "source": [
    "from sentence_transformers import SentenceTransformer, util\n",
    "import pandas as pd\n",
    "import torch\n",
    "import pickle \n",
    "import os"
   ]
  },
  {
   "cell_type": "code",
   "execution_count": 14,
   "id": "106a0769",
   "metadata": {},
   "outputs": [],
   "source": [
    "# === 1. Load model IndoSBERT dari Denaya ===\n",
    "model = SentenceTransformer(\"denaya/indoSBERT-large\")"
   ]
  },
  {
   "cell_type": "code",
   "execution_count": 15,
   "id": "593d7259",
   "metadata": {},
   "outputs": [],
   "source": [
    "# === 2. Load dataset ===\n",
    "df = pd.read_csv(\"../quran_id_full.csv\")\n",
    "texts = df['indoText'].tolist()"
   ]
  },
  {
   "cell_type": "code",
   "execution_count": 7,
   "id": "91adbee0",
   "metadata": {},
   "outputs": [
    {
     "data": {
      "application/vnd.jupyter.widget-view+json": {
       "model_id": "0008d645302c42f1afefde88c9a3644d",
       "version_major": 2,
       "version_minor": 0
      },
      "text/plain": [
       "Batches:   0%|          | 0/195 [00:00<?, ?it/s]"
      ]
     },
     "metadata": {},
     "output_type": "display_data"
    },
    {
     "name": "stdout",
     "output_type": "stream",
     "text": [
      "✅ Embedding berhasil dihitung dan disimpan.\n"
     ]
    }
   ],
   "source": [
    "# === 3. Cek apakah embedding sudah disimpan ===\n",
    "embedding_file = \"quran_id_full_embedding_indosbert.pkl\"\n",
    "if os.path.exists(embedding_file):\n",
    "    with open(embedding_file, \"rb\") as f:\n",
    "        embeddings = pickle.load(f)\n",
    "    print(\"✅ Embedding berhasil dimuat dari file.\")\n",
    "else:\n",
    "    embeddings = model.encode(texts, convert_to_tensor=True, show_progress_bar=True)\n",
    "    with open(embedding_file, \"wb\") as f:\n",
    "        pickle.dump(embeddings, f)\n",
    "    print(\"✅ Embedding berhasil dihitung dan disimpan.\")"
   ]
  },
  {
   "cell_type": "code",
   "execution_count": 13,
   "id": "f824e95a",
   "metadata": {},
   "outputs": [],
   "source": [
    "# === 4. Proses IR / Semantic Search ===\n",
    "def search(query, top_k=5):\n",
    "    query_embedding = model.encode(query, convert_to_tensor=True)\n",
    "    hits = util.semantic_search(query_embedding, embeddings, top_k=top_k)[0]\n",
    "    results = []\n",
    "    for hit in hits:\n",
    "        idx = hit['corpus_id']\n",
    "        score = hit['score']\n",
    "        results.append((df.iloc[idx]['suraId'], df.iloc[idx]['verseID'], df.iloc[idx]['indoText'], score))\n",
    "    return results"
   ]
  },
  {
   "cell_type": "code",
   "execution_count": 16,
   "id": "a5ae8ec2",
   "metadata": {},
   "outputs": [],
   "source": [
    "# === 5. Contoh Query ===\n",
    "query = \"kasih sayang Tuhan\"\n",
    "hasil = search(query, 20)"
   ]
  },
  {
   "cell_type": "code",
   "execution_count": 17,
   "id": "ca01cc2a",
   "metadata": {},
   "outputs": [
    {
     "name": "stdout",
     "output_type": "stream",
     "text": [
      "[26:217] (score: 0.7148)\n",
      "Dan bertawakallah kepada (Allah) Yang Mahaperkasa, Maha Penyayang.\n",
      "\n",
      "[55:1] (score: 0.7148)\n",
      "(Allah) Yang Maha Pengasih,\n",
      "\n",
      "[1:3] (score: 0.7097)\n",
      "Yang Maha Pengasih, Maha Penyayang,\n",
      "\n",
      "[1:1] (score: 0.7073)\n",
      "Dengan nama Allah Yang Maha Pengasih, Maha Penyayang.\n",
      "\n",
      "[26:9] (score: 0.7032)\n",
      "Dan sungguh, Tuhanmu Dialah Yang Mahaperkasa, Maha Penyayang.\n",
      "\n",
      "[74:3] (score: 0.6962)\n",
      "dan agungkanlah Tuhanmu,\n",
      "\n",
      "[26:68] (score: 0.6944)\n",
      "Dan sesungguhnya Tuhanmu Dialah Yang Mahaperkasa, Maha Penyayang.\n",
      "\n",
      "[26:159] (score: 0.6940)\n",
      "Dan sungguh, Tuhanmu, Dialah Yang Mahaperkasa, Maha Penyayang.\n",
      "\n",
      "[26:122] (score: 0.6940)\n",
      "Dan sungguh, Tuhanmu, Dialah Yang Mahaperkasa, Maha Penyayang.\n",
      "\n",
      "[26:191] (score: 0.6940)\n",
      "Dan sungguh, Tuhanmu, Dialah yang Mahaperkasa, Maha Penyayang.\n",
      "\n",
      "[26:140] (score: 0.6940)\n",
      "Dan sungguh, Tuhanmu, Dialah Yang Mahaperkasa, Maha Penyayang.\n",
      "\n",
      "[26:175] (score: 0.6940)\n",
      "Dan sungguh, Tuhanmu, Dialah Yang Mahaperkasa, Maha Penyayang.\n",
      "\n",
      "[26:104] (score: 0.6940)\n",
      "Dan sungguh, Tuhanmu benar-benar Dialah Mahaperkasa, Maha Penyayang.\n",
      "\n",
      "[73:8] (score: 0.6896)\n",
      "Dan sebutlah nama Tuhanmu, dan beribadahlah kepada-Nya dengan sepenuh hati.\n",
      "\n",
      "[45:36] (score: 0.6762)\n",
      "Segala puji hanya bagi Allah, Tuhan (pemilik) langit dan bumi, Tuhan seluruh alam.\n",
      "\n",
      "[1:5] (score: 0.6671)\n",
      "Hanya kepada Engkaulah kami menyembah dan hanya kepada Engkaulah kami mohon pertolongan.\n",
      "\n",
      "[1:2] (score: 0.6662)\n",
      "Segala puji bagi Allah, Tuhan seluruh alam,\n",
      "\n",
      "[37:182] (score: 0.6657)\n",
      "Dan segala puji bagi Allah Tuhan seluruh alam.\n",
      "\n",
      "[33:3] (score: 0.6629)\n",
      "dan bertawakallah kepada Allah. Dan cukuplah Allah sebagai pemelihara.\n",
      "\n",
      "[94:8] (score: 0.6619)\n",
      "dan hanya kepada Tuhanmulah engkau berharap.\n",
      "\n"
     ]
    }
   ],
   "source": [
    "# === 6. Cetak hasil pencarian ===\n",
    "for surah, ayat, text, score in hasil:\n",
    "    print(f\"[{surah}:{ayat}] (score: {score:.4f})\\n{text}\\n\")"
   ]
  },
  {
   "cell_type": "markdown",
   "id": "9c2b0e8c",
   "metadata": {},
   "source": [
    "# Cek Max Seq Len"
   ]
  },
  {
   "cell_type": "code",
   "execution_count": null,
   "id": "6aa25d85",
   "metadata": {},
   "outputs": [],
   "source": [
    "tokenizer = model.tokenizer \n",
    "max_len = model.max_seq_length "
   ]
  },
  {
   "cell_type": "code",
   "execution_count": 17,
   "id": "3a0e0bcf",
   "metadata": {},
   "outputs": [],
   "source": [
    "def count_tokens(text):\n",
    "    return len(tokenizer.tokenize(text))"
   ]
  },
  {
   "cell_type": "code",
   "execution_count": 20,
   "id": "b528f07a",
   "metadata": {},
   "outputs": [
    {
     "name": "stderr",
     "output_type": "stream",
     "text": [
      "Token indices sequence length is longer than the specified maximum sequence length for this model (317 > 256). Running this sequence through the model will result in indexing errors\n"
     ]
    }
   ],
   "source": [
    "jumlah_token_ayats = [count_tokens(text) for text in texts]"
   ]
  },
  {
   "cell_type": "code",
   "execution_count": 25,
   "id": "a5f47360",
   "metadata": {},
   "outputs": [
    {
     "name": "stdout",
     "output_type": "stream",
     "text": [
      "Min   : 2\n",
      "Max   : 317\n",
      "Mean  : 34.24326491340603\n",
      "Median: 28.0\n",
      "Std   : 24.38255472348762\n"
     ]
    }
   ],
   "source": [
    "import numpy as np\n",
    "\n",
    "token_array = np.array(jumlah_token_ayats)\n",
    "print(\"Min   :\", np.min(token_array))\n",
    "print(\"Max   :\", np.max(token_array))\n",
    "print(\"Mean  :\", np.mean(token_array))\n",
    "print(\"Median:\", np.median(token_array))\n",
    "print(\"Std   :\", np.std(token_array))"
   ]
  },
  {
   "cell_type": "code",
   "execution_count": 21,
   "id": "37839077",
   "metadata": {},
   "outputs": [
    {
     "data": {
      "image/png": "[encoded data removed]",
      "text/plain": [
       "<Figure size 640x480 with 1 Axes>"
      ]
     },
     "metadata": {},
     "output_type": "display_data"
    }
   ],
   "source": [
    "import matplotlib.pyplot as plt\n",
    "\n",
    "plt.hist(jumlah_token_ayats, bins=20, edgecolor='black')\n",
    "plt.title(\"Distribusi Jumlah Token per Ayat\")\n",
    "plt.xlabel(\"Jumlah Token\")\n",
    "plt.ylabel(\"Jumlah Ayat\")\n",
    "plt.grid(True)\n",
    "plt.show()"
   ]
  },
  {
   "cell_type": "code",
   "execution_count": 22,
   "id": "be10025d",
   "metadata": {},
   "outputs": [
    {
     "data": {
      "image/png": "[encoded data removed]",
      "text/plain": [
       "<Figure size 640x480 with 1 Axes>"
      ]
     },
     "metadata": {},
     "output_type": "display_data"
    }
   ],
   "source": [
    "plt.boxplot(jumlah_token_ayats, vert=False)\n",
    "plt.title(\"Boxplot Jumlah Token per Ayat\")\n",
    "plt.xlabel(\"Jumlah Token\")\n",
    "plt.show()"
   ]
  },
  {
   "cell_type": "markdown",
   "id": "a282fea1",
   "metadata": {},
   "source": [
    "# Manualisasi"
   ]
  },
  {
   "cell_type": "code",
   "execution_count": 2,
   "id": "bc7129b0",
   "metadata": {},
   "outputs": [],
   "source": [
    "import pandas as pd\n",
    "import torch\n",
    "from sentence_transformers import SentenceTransformer, util\n",
    "from transformers import AutoTokenizer, AutoModel\n",
    "from torch.nn.functional import cosine_similarity\n",
    "import torch.nn.functional as F\n"
   ]
  },
  {
   "cell_type": "code",
   "execution_count": 3,
   "id": "ff0fba25",
   "metadata": {},
   "outputs": [],
   "source": [
    "# Load dataset\n",
    "df = pd.read_csv(\"../quran_100_ayat.csv\")\n",
    "\n",
    "# Ambil teks ayat saja\n",
    "corpus = df['indoText'].tolist()"
   ]
  },
  {
   "cell_type": "code",
   "execution_count": 4,
   "id": "6a4459e6",
   "metadata": {},
   "outputs": [],
   "source": [
    "query = \"kasih sayang Tuhan\""
   ]
  },
  {
   "cell_type": "code",
   "execution_count": null,
   "id": "fa17218a",
   "metadata": {},
   "outputs": [],
   "source": [
    "MODEL_NAME = \"denaya/indoSBERT-large\""
   ]
  },
  {
   "cell_type": "markdown",
   "id": "eb943559",
   "metadata": {},
   "source": [
    "## encode()"
   ]
  },
  {
   "cell_type": "code",
   "execution_count": 12,
   "id": "feba4e38",
   "metadata": {},
   "outputs": [
    {
     "data": {
      "text/plain": [
       "SentenceTransformer(\n",
       "  (0): Transformer({'max_seq_length': 256, 'do_lower_case': False}) with Transformer model: BertModel \n",
       "  (1): Pooling({'word_embedding_dimension': 1024, 'pooling_mode_cls_token': False, 'pooling_mode_mean_tokens': True, 'pooling_mode_max_tokens': False, 'pooling_mode_mean_sqrt_len_tokens': False, 'pooling_mode_weightedmean_tokens': False, 'pooling_mode_lasttoken': False, 'include_prompt': True})\n",
       "  (2): Dense({'in_features': 1024, 'out_features': 256, 'bias': True, 'activation_function': 'torch.nn.modules.activation.Tanh'})\n",
       ")"
      ]
     },
     "execution_count": 12,
     "metadata": {},
     "output_type": "execute_result"
    }
   ],
   "source": [
    "model = SentenceTransformer(MODEL_NAME)\n",
    "model"
   ]
  },
  {
   "cell_type": "code",
   "execution_count": null,
   "id": "204af3aa",
   "metadata": {},
   "outputs": [],
   "source": [
    "df = pd.read_csv(\"../quran_100_ayat.csv\")\n",
    "texts = df['indoText'].tolist()"
   ]
  },
  {
   "cell_type": "code",
   "execution_count": 16,
   "id": "f91b2be7",
   "metadata": {},
   "outputs": [
    {
     "data": {
      "application/vnd.jupyter.widget-view+json": {
       "model_id": "9a77f557a2e94e19aeeda44ff82d5776",
       "version_major": 2,
       "version_minor": 0
      },
      "text/plain": [
       "Batches:   0%|          | 0/4 [00:00<?, ?it/s]"
      ]
     },
     "metadata": {},
     "output_type": "display_data"
    }
   ],
   "source": [
    "embeddings = model.encode(texts, convert_to_tensor=True, show_progress_bar=True)"
   ]
  },
  {
   "cell_type": "code",
   "execution_count": 17,
   "id": "2d7f7f12",
   "metadata": {},
   "outputs": [],
   "source": [
    "def search(query, top_k=5):\n",
    "    query_embedding = model.encode(query, convert_to_tensor=True)\n",
    "    hits = util.semantic_search(query_embedding, embeddings, top_k=top_k)[0]\n",
    "    results = []\n",
    "    for hit in hits:\n",
    "        idx = hit['corpus_id']\n",
    "        score = hit['score']\n",
    "        results.append((df.iloc[idx]['suraId'], df.iloc[idx]['verseID'], df.iloc[idx]['indoText'], score))\n",
    "    return results"
   ]
  },
  {
   "cell_type": "code",
   "execution_count": 21,
   "id": "2499dea0",
   "metadata": {},
   "outputs": [],
   "source": [
    "hasil = search(query)"
   ]
  },
  {
   "cell_type": "code",
   "execution_count": 22,
   "id": "291991ab",
   "metadata": {},
   "outputs": [
    {
     "name": "stdout",
     "output_type": "stream",
     "text": [
      "[1:3] (score: 0.7097)\n",
      "Yang Maha Pengasih, Maha Penyayang,\n",
      "\n",
      "[1:1] (score: 0.7073)\n",
      "Dengan nama Allah Yang Maha Pengasih, Maha Penyayang.\n",
      "\n",
      "[1:5] (score: 0.6671)\n",
      "Hanya kepada Engkaulah kami menyembah dan hanya kepada Engkaulah kami mohon pertolongan.\n",
      "\n",
      "[1:2] (score: 0.6662)\n",
      "Segala puji bagi Allah, Tuhan seluruh alam,\n",
      "\n",
      "[2:45] (score: 0.5204)\n",
      "Dan mohonlah pertolongan (kepada Allah) dengan sabar dan salat. Dan (salat) itu sungguh berat, kecuali bagi orang-orang yang khusyuk,\n",
      "\n"
     ]
    }
   ],
   "source": [
    "for surah, ayat, text, score in hasil:\n",
    "    print(f\"[{surah}:{ayat}] (score: {score:.4f})\\n{text}\\n\")"
   ]
  },
  {
   "cell_type": "markdown",
   "id": "924cb543",
   "metadata": {},
   "source": [
    "## AutoEncoder"
   ]
  },
  {
   "cell_type": "code",
   "execution_count": null,
   "id": "d9d851f2",
   "metadata": {},
   "outputs": [],
   "source": [
    "tokenizer = AutoTokenizer.from_pretrained(MODEL_NAME)\n",
    "bert_model = AutoModel.from_pretrained(MODEL_NAME)"
   ]
  },
  {
   "cell_type": "code",
   "execution_count": 6,
   "id": "3df7bd57",
   "metadata": {},
   "outputs": [],
   "source": [
    "def mean_pooling(model_output, attention_mask):\n",
    "    token_embeddings = model_output.last_hidden_state  # [batch_size, seq_len, hidden_size]\n",
    "    input_mask_expanded = attention_mask.unsqueeze(-1).expand(token_embeddings.size())\n",
    "    sum_embeddings = torch.sum(token_embeddings * input_mask_expanded, 1)\n",
    "    sum_mask = torch.clamp(input_mask_expanded.sum(1), min=1e-9)\n",
    "    return sum_embeddings / sum_mask  # [batch_size, hidden_size]\n",
    "\n",
    "def dense_projection(embeddings):\n",
    "    dense = torch.nn.Linear(embeddings.shape[1], embeddings.shape[1])\n",
    "    torch.nn.init.xavier_uniform_(dense.weight)\n",
    "    torch.nn.init.zeros_(dense.bias)\n",
    "    projected = torch.tanh(dense(embeddings))\n",
    "    return projected\n",
    "\n"
   ]
  },
  {
   "cell_type": "code",
   "execution_count": 7,
   "id": "3d18bac4",
   "metadata": {},
   "outputs": [
    {
     "name": "stderr",
     "output_type": "stream",
     "text": [
      "Asking to truncate to max_length but no maximum length is provided and the model has no predefined maximum length. Default to no truncation.\n"
     ]
    }
   ],
   "source": [
    "# Tokenisasi\n",
    "encoded_corpus = tokenizer(corpus, padding=True, truncation=True, return_tensors='pt')\n",
    "\n",
    "# Forward pass\n",
    "with torch.no_grad():\n",
    "    model_output = bert_model(**encoded_corpus)\n",
    "\n",
    "# Mean pooling\n",
    "corpus_embeddings = mean_pooling(model_output, encoded_corpus['attention_mask'])"
   ]
  },
  {
   "cell_type": "code",
   "execution_count": null,
   "id": "e2a05923",
   "metadata": {},
   "outputs": [],
   "source": [
    "# corpus_embeddings = dense_projection(corpus_embeddings)"
   ]
  },
  {
   "cell_type": "code",
   "execution_count": 8,
   "id": "884aadaa",
   "metadata": {},
   "outputs": [],
   "source": [
    "encoded_query = tokenizer(query, return_tensors='pt', truncation=True, padding=True)\n",
    "\n",
    "with torch.no_grad():\n",
    "    query_output = bert_model(**encoded_query)\n",
    "\n",
    "query_embedding = mean_pooling(query_output, encoded_query['attention_mask'])"
   ]
  },
  {
   "cell_type": "code",
   "execution_count": 9,
   "id": "36f9eb99",
   "metadata": {},
   "outputs": [],
   "source": [
    "similarities = cosine_similarity(query_embedding, corpus_embeddings)  # shape: [N]\n",
    "\n",
    "# Ambil top-5\n",
    "top_k = torch.topk(similarities, k=5)\n",
    "indices = top_k.indices\n",
    "scores = top_k.values"
   ]
  },
  {
   "cell_type": "code",
   "execution_count": 10,
   "id": "e5f93820",
   "metadata": {},
   "outputs": [
    {
     "name": "stdout",
     "output_type": "stream",
     "text": [
      "[1:3] (score: 0.6833)\n",
      "Yang Maha Pengasih, Maha Penyayang,\n",
      "\n",
      "[1:2] (score: 0.6679)\n",
      "Segala puji bagi Allah, Tuhan seluruh alam,\n",
      "\n",
      "[1:1] (score: 0.6540)\n",
      "Dengan nama Allah Yang Maha Pengasih, Maha Penyayang.\n",
      "\n",
      "[1:5] (score: 0.5999)\n",
      "Hanya kepada Engkaulah kami menyembah dan hanya kepada Engkaulah kami mohon pertolongan.\n",
      "\n",
      "[2:40] (score: 0.4742)\n",
      "Wahai Bani Israil! Ingatlah nikmat-Ku yang telah Aku berikan kepadamu. Dan penuhilah janjimu kepada-Ku, niscaya Aku penuhi janji-Ku kepadamu, dan takutlah kepada-Ku saja.\n",
      "\n"
     ]
    }
   ],
   "source": [
    "for idx, score in zip(indices, scores):\n",
    "    row = df.iloc[idx.item()]\n",
    "    print(f\"[{row['suraId']}:{row['verseID']}] (score: {score:.4f})\\n{row['indoText']}\\n\")"
   ]
  }
 ],
 "metadata": {
  "kernelspec": {
   "display_name": ".venv",
   "language": "python",
   "name": "python3"
  },
  "language_info": {
   "codemirror_mode": {
    "name": "ipython",
    "version": 3
   },
   "file_extension": ".py",
   "mimetype": "text/x-python",
   "name": "python",
   "nbconvert_exporter": "python",
   "pygments_lexer": "ipython3",
   "version": "3.12.4"
  }
 },
 "nbformat": 4,
 "nbformat_minor": 5
}
